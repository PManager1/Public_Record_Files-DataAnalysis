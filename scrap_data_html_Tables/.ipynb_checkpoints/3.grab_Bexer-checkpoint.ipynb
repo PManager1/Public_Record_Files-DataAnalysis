{
 "cells": [
  {
   "cell_type": "code",
   "execution_count": 3,
   "id": "4d3ca3e4",
   "metadata": {},
   "outputs": [
    {
     "name": "stdout",
     "output_type": "stream",
     "text": [
      "[      Rank                      Vehicle              Driver     Time  \\\n",
      "0      1.0                  Ducati GP22   Francesco Bagnaia  1:30.45   \n",
      "1      2.0                  Ducati GP22         Jack Miller  1:30.52   \n",
      "2      3.0         Aprilia RS-GP (2022)     Aleix Espargaró  1:30.61   \n",
      "3      4.0         Yamaha YZR-M1 (2022)    Fabio Quartararo  1:30.69   \n",
      "4      5.0                  Ducati GP23   Francesco Bagnaia  1:30.70   \n",
      "..     ...                          ...                 ...      ...   \n",
      "186  187.0        Porsche 911 GT3 (991)  Christophe Tinseau  1:48.48   \n",
      "187  188.0    Porsche 911 Turbo S (991)             unknown  1:48.63   \n",
      "188  189.0        Ariel Atom 3 (300 PS)             unknown  1:48.70   \n",
      "189  190.0  Porsche 911 Carrera S (992)  Christophe Tinseau  1:49.22   \n",
      "190  191.0           Porsche 911 GT3 RS  Sebastien Bourdais  1:49.25   \n",
      "\n",
      "        PS / KG  \n",
      "0         - / -  \n",
      "1         - / -  \n",
      "2         - / -  \n",
      "3         - / -  \n",
      "4         - / -  \n",
      "..          ...  \n",
      "186  476 / 1451  \n",
      "187  560 / 1593  \n",
      "188   300 / 531  \n",
      "189  450 / 1553  \n",
      "190  450 / 1400  \n",
      "\n",
      "[191 rows x 5 columns],                      0                                 1\n",
      "0              Country                            France\n",
      "1         Track length              4.18 km / 2.60 miles\n",
      "2            Top speed  324 kph / 201 mph - Honda RC213V\n",
      "3         Track record              1:30.4 - Ducati GP22\n",
      "4     Fastest race lap              1:31.8 - Ducati GP22\n",
      "5    Production record           1:38.5 - Radical SR8 RX\n",
      "6   Front-drive record         1:55.1 - Civic Type R L..\n",
      "7  4-door sedan record          1:49.8 - XE SV Project 8\n",
      "8   Convertible record               1:42.6 - 918 Spyder\n",
      "9  Electric car record           1:50.3 - Taycan Turbo S]\n"
     ]
    }
   ],
   "source": [
    "# https://www.youtube.com/watch?v=ODNMNwgtehk&t=295s\n",
    "\n",
    "import re\n",
    "import pandas as pd\n",
    "\n",
    "\n",
    "df = pd.read_html('https://fastestlaps.com/tracks/le-mans-bugatti')\n",
    "print(df)"
   ]
  },
  {
   "cell_type": "code",
   "execution_count": 7,
   "id": "8a2b585f",
   "metadata": {},
   "outputs": [],
   "source": [
    "# https://www.youtube.com/watch?v=ODNMNwgtehk&t=295s\n",
    "\n",
    "import pandas as pd\n",
    "\n",
    "\n",
    "df = pd.read_html('https://en.wikipedia.org/wiki/Land_speed_record')\n",
    "# print(df)\n",
    "\n",
    "# print(df[0].head(15))\n",
    "df[0].to_csv('ls.csv')\n",
    "\n",
    "\n"
   ]
  },
  {
   "cell_type": "code",
   "execution_count": 17,
   "id": "35a5f6f8",
   "metadata": {},
   "outputs": [
    {
     "name": "stdout",
     "output_type": "stream",
     "text": [
      "This domain is for use in illustrative examples in documents. You may use this\n",
      "    domain in literature without prior coordination or asking for permission.\n",
      "More information...\n"
     ]
    }
   ],
   "source": [
    "# https://www.youtube.com/watch?v=T1xAqWNdfoY\n",
    "\n",
    "import pandas as pd\n",
    "import requests\n",
    "\n",
    "from bs4 import BeautifulSoup\n",
    "\n",
    "# Get the HTML of the page\n",
    "url = 'https://www.example.com'\n",
    "response = requests.get(url)\n",
    "soup = BeautifulSoup(response.content, 'html.parser')\n",
    "\n",
    "# Find all p tags\n",
    "ps = soup.find_all('p')\n",
    "\n",
    "# Print the text of all p tags\n",
    "for p in ps:\n",
    "    print(p.text)\n",
    "\n",
    "\n",
    "# id = ReactDataTableRow_0"
   ]
  },
  {
   "cell_type": "code",
   "execution_count": 28,
   "id": "3b688b02",
   "metadata": {},
   "outputs": [
    {
     "name": "stdout",
     "output_type": "stream",
     "text": [
      "['basic-table-3']\n",
      "<table class=\"basic-table-3\"><tbody><tr class=\"schools-table-row\" data-rf-test-name=\"schools-table-row\"><td class=\"rating-and-name-col\"><div class=\"gs-rating-col\"><div class=\"ellipse\"><div class=\"gs-rating-text\"><span class=\"rating-num\">10</span><span class=\"out-of\">/10</span></div></div></div><div class=\"name-col\"><div class=\"name-and-info\"><div class=\"school-name font-size-base\" data-rf-test-name=\"school-name\"><div class=\"school-title\" role=\"button\">William B Travis Acdmy/vngrd For A</div></div><div class=\"sub-info font-color-gray-light font-size-small\">Public<!-- --> • <!-- -->4-8</div></div></div></td><td class=\"num-students-col\"><div class=\"students\">521</div><div class=\"sub-info font-color-gray-light font-size-small\">Students</div></td><td class=\"rating-col\"><div class=\"star-rating rating-row\"><div class=\"StarRating\"><div aria-label=\"Rating 4.0 out of 5\" class=\"stars\"><svg class=\"SvgIcon rating StarRating--star full\"><svg viewbox=\"0 0 24 24\"><path d=\"M8.005 8.198L.215 9.331a.25.25 0 00-.139.425l5.637 5.496-1.33 7.759a.25.25 0 00.362.263l6.968-3.663 6.968 3.663a.25.25 0 00.363-.263l-1.33-7.76 5.636-5.495a.25.25 0 00-.138-.425l-7.79-1.133-3.485-7.059a.25.25 0 00-.448 0L8.005 8.2\" fill-rule=\"evenodd\"></path></svg></svg><svg class=\"SvgIcon rating StarRating--star full\"><svg viewbox=\"0 0 24 24\"><path d=\"M8.005 8.198L.215 9.331a.25.25 0 00-.139.425l5.637 5.496-1.33 7.759a.25.25 0 00.362.263l6.968-3.663 6.968 3.663a.25.25 0 00.363-.263l-1.33-7.76 5.636-5.495a.25.25 0 00-.138-.425l-7.79-1.133-3.485-7.059a.25.25 0 00-.448 0L8.005 8.2\" fill-rule=\"evenodd\"></path></svg></svg><svg class=\"SvgIcon rating StarRating--star full\"><svg viewbox=\"0 0 24 24\"><path d=\"M8.005 8.198L.215 9.331a.25.25 0 00-.139.425l5.637 5.496-1.33 7.759a.25.25 0 00.362.263l6.968-3.663 6.968 3.663a.25.25 0 00.363-.263l-1.33-7.76 5.636-5.495a.25.25 0 00-.138-.425l-7.79-1.133-3.485-7.059a.25.25 0 00-.448 0L8.005 8.2\" fill-rule=\"evenodd\"></path></svg></svg><svg class=\"SvgIcon rating StarRating--star full\"><svg viewbox=\"0 0 24 24\"><path d=\"M8.005 8.198L.215 9.331a.25.25 0 00-.139.425l5.637 5.496-1.33 7.759a.25.25 0 00.362.263l6.968-3.663 6.968 3.663a.25.25 0 00.363-.263l-1.33-7.76 5.636-5.495a.25.25 0 00-.138-.425l-7.79-1.133-3.485-7.059a.25.25 0 00-.448 0L8.005 8.2\" fill-rule=\"evenodd\"></path></svg></svg><svg class=\"SvgIcon rating StarRating--star empty\"><svg viewbox=\"0 0 24 24\"><path d=\"M8.005 8.198L.215 9.331a.25.25 0 00-.139.425l5.637 5.496-1.33 7.759a.25.25 0 00.362.263l6.968-3.663 6.968 3.663a.25.25 0 00.363-.263l-1.33-7.76 5.636-5.495a.25.25 0 00-.138-.425l-7.79-1.133-3.485-7.059a.25.25 0 00-.448 0L8.005 8.2\" fill-rule=\"evenodd\"></path></svg></svg></div></div><div class=\"num-reviews sub-info font-size-small\" role=\"button\" tabindex=\"0\">14<!-- --> reviews</div></div></td></tr><tr class=\"schools-table-row\" data-rf-test-name=\"schools-table-row\"><td class=\"rating-and-name-col\"><div class=\"gs-rating-col\"><div class=\"ellipse\"><div class=\"gs-rating-text\"><span class=\"rating-num\">10</span><span class=\"out-of\">/10</span></div></div></div><div class=\"name-col\"><div class=\"name-and-info\"><div class=\"school-name font-size-base\" data-rf-test-name=\"school-name\"><div class=\"school-title\" role=\"button\">Don Whitt Elementary School</div></div><div class=\"sub-info font-color-gray-light font-size-small\">Public<!-- --> • <!-- -->PreK-4</div></div></div></td><td class=\"num-students-col\"><div class=\"students\">664</div><div class=\"sub-info font-color-gray-light font-size-small\">Students</div></td><td class=\"rating-col\"><div class=\"star-rating rating-row\"><div class=\"StarRating\"><div aria-label=\"Rating 5.0 out of 5\" class=\"stars\"><svg class=\"SvgIcon rating StarRating--star full\"><svg viewbox=\"0 0 24 24\"><path d=\"M8.005 8.198L.215 9.331a.25.25 0 00-.139.425l5.637 5.496-1.33 7.759a.25.25 0 00.362.263l6.968-3.663 6.968 3.663a.25.25 0 00.363-.263l-1.33-7.76 5.636-5.495a.25.25 0 00-.138-.425l-7.79-1.133-3.485-7.059a.25.25 0 00-.448 0L8.005 8.2\" fill-rule=\"evenodd\"></path></svg></svg><svg class=\"SvgIcon rating StarRating--star full\"><svg viewbox=\"0 0 24 24\"><path d=\"M8.005 8.198L.215 9.331a.25.25 0 00-.139.425l5.637 5.496-1.33 7.759a.25.25 0 00.362.263l6.968-3.663 6.968 3.663a.25.25 0 00.363-.263l-1.33-7.76 5.636-5.495a.25.25 0 00-.138-.425l-7.79-1.133-3.485-7.059a.25.25 0 00-.448 0L8.005 8.2\" fill-rule=\"evenodd\"></path></svg></svg><svg class=\"SvgIcon rating StarRating--star full\"><svg viewbox=\"0 0 24 24\"><path d=\"M8.005 8.198L.215 9.331a.25.25 0 00-.139.425l5.637 5.496-1.33 7.759a.25.25 0 00.362.263l6.968-3.663 6.968 3.663a.25.25 0 00.363-.263l-1.33-7.76 5.636-5.495a.25.25 0 00-.138-.425l-7.79-1.133-3.485-7.059a.25.25 0 00-.448 0L8.005 8.2\" fill-rule=\"evenodd\"></path></svg></svg><svg class=\"SvgIcon rating StarRating--star full\"><svg viewbox=\"0 0 24 24\"><path d=\"M8.005 8.198L.215 9.331a.25.25 0 00-.139.425l5.637 5.496-1.33 7.759a.25.25 0 00.362.263l6.968-3.663 6.968 3.663a.25.25 0 00.363-.263l-1.33-7.76 5.636-5.495a.25.25 0 00-.138-.425l-7.79-1.133-3.485-7.059a.25.25 0 00-.448 0L8.005 8.2\" fill-rule=\"evenodd\"></path></svg></svg><svg class=\"SvgIcon rating StarRating--star full\"><svg viewbox=\"0 0 24 24\"><path d=\"M8.005 8.198L.215 9.331a.25.25 0 00-.139.425l5.637 5.496-1.33 7.759a.25.25 0 00.362.263l6.968-3.663 6.968 3.663a.25.25 0 00.363-.263l-1.33-7.76 5.636-5.495a.25.25 0 00-.138-.425l-7.79-1.133-3.485-7.059a.25.25 0 00-.448 0L8.005 8.2\" fill-rule=\"evenodd\"></path></svg></svg></div></div><div class=\"num-reviews sub-info font-size-small\" role=\"button\" tabindex=\"0\">14<!-- --> reviews</div></div></td></tr><tr class=\"schools-table-row\" data-rf-test-name=\"schools-table-row\"><td class=\"rating-and-name-col\"><div class=\"gs-rating-col\"><div class=\"ellipse\"><div class=\"gs-rating-text\"><span class=\"rating-num\">10</span><span class=\"out-of\">/10</span></div></div></div><div class=\"name-col\"><div class=\"name-and-info\"><div class=\"school-name font-size-base\" data-rf-test-name=\"school-name\"><div class=\"school-title\" role=\"button\">R F Hartman Elementary School</div></div><div class=\"sub-info font-color-gray-light font-size-small\">Public<!-- --> • <!-- -->PreK-4</div></div></div></td><td class=\"num-students-col\"><div class=\"students\">534</div><div class=\"sub-info font-color-gray-light font-size-small\">Students</div></td><td class=\"rating-col\"><div class=\"star-rating rating-row\"><div class=\"StarRating\"><div aria-label=\"Rating 5.0 out of 5\" class=\"stars\"><svg class=\"SvgIcon rating StarRating--star full\"><svg viewbox=\"0 0 24 24\"><path d=\"M8.005 8.198L.215 9.331a.25.25 0 00-.139.425l5.637 5.496-1.33 7.759a.25.25 0 00.362.263l6.968-3.663 6.968 3.663a.25.25 0 00.363-.263l-1.33-7.76 5.636-5.495a.25.25 0 00-.138-.425l-7.79-1.133-3.485-7.059a.25.25 0 00-.448 0L8.005 8.2\" fill-rule=\"evenodd\"></path></svg></svg><svg class=\"SvgIcon rating StarRating--star full\"><svg viewbox=\"0 0 24 24\"><path d=\"M8.005 8.198L.215 9.331a.25.25 0 00-.139.425l5.637 5.496-1.33 7.759a.25.25 0 00.362.263l6.968-3.663 6.968 3.663a.25.25 0 00.363-.263l-1.33-7.76 5.636-5.495a.25.25 0 00-.138-.425l-7.79-1.133-3.485-7.059a.25.25 0 00-.448 0L8.005 8.2\" fill-rule=\"evenodd\"></path></svg></svg><svg class=\"SvgIcon rating StarRating--star full\"><svg viewbox=\"0 0 24 24\"><path d=\"M8.005 8.198L.215 9.331a.25.25 0 00-.139.425l5.637 5.496-1.33 7.759a.25.25 0 00.362.263l6.968-3.663 6.968 3.663a.25.25 0 00.363-.263l-1.33-7.76 5.636-5.495a.25.25 0 00-.138-.425l-7.79-1.133-3.485-7.059a.25.25 0 00-.448 0L8.005 8.2\" fill-rule=\"evenodd\"></path></svg></svg><svg class=\"SvgIcon rating StarRating--star full\"><svg viewbox=\"0 0 24 24\"><path d=\"M8.005 8.198L.215 9.331a.25.25 0 00-.139.425l5.637 5.496-1.33 7.759a.25.25 0 00.362.263l6.968-3.663 6.968 3.663a.25.25 0 00.363-.263l-1.33-7.76 5.636-5.495a.25.25 0 00-.138-.425l-7.79-1.133-3.485-7.059a.25.25 0 00-.448 0L8.005 8.2\" fill-rule=\"evenodd\"></path></svg></svg><svg class=\"SvgIcon rating StarRating--star full\"><svg viewbox=\"0 0 24 24\"><path d=\"M8.005 8.198L.215 9.331a.25.25 0 00-.139.425l5.637 5.496-1.33 7.759a.25.25 0 00.362.263l6.968-3.663 6.968 3.663a.25.25 0 00.363-.263l-1.33-7.76 5.636-5.495a.25.25 0 00-.138-.425l-7.79-1.133-3.485-7.059a.25.25 0 00-.448 0L8.005 8.2\" fill-rule=\"evenodd\"></path></svg></svg></div></div><div class=\"num-reviews sub-info font-size-small\" role=\"button\" tabindex=\"0\">4<!-- --> reviews</div></div></td></tr><tr class=\"schools-table-row\" data-rf-test-name=\"schools-table-row\"><td class=\"rating-and-name-col\"><div class=\"gs-rating-col\"><div class=\"ellipse\"><div class=\"gs-rating-text\"><span class=\"rating-num\">10</span><span class=\"out-of\">/10</span></div></div></div><div class=\"name-col\"><div class=\"name-and-info\"><div class=\"school-name font-size-base\" data-rf-test-name=\"school-name\"><div class=\"school-title\" role=\"button\">Hyer Elementary School</div></div><div class=\"sub-info font-color-gray-light font-size-small\">Public<!-- --> • <!-- -->PreK-4</div></div></div></td><td class=\"num-students-col\"><div class=\"students\">664</div><div class=\"sub-info font-color-gray-light font-size-small\">Students</div></td><td class=\"rating-col\"><div class=\"star-rating rating-row\"><div class=\"StarRating\"><div aria-label=\"Rating 4.0 out of 5\" class=\"stars\"><svg class=\"SvgIcon rating StarRating--star full\"><svg viewbox=\"0 0 24 24\"><path d=\"M8.005 8.198L.215 9.331a.25.25 0 00-.139.425l5.637 5.496-1.33 7.759a.25.25 0 00.362.263l6.968-3.663 6.968 3.663a.25.25 0 00.363-.263l-1.33-7.76 5.636-5.495a.25.25 0 00-.138-.425l-7.79-1.133-3.485-7.059a.25.25 0 00-.448 0L8.005 8.2\" fill-rule=\"evenodd\"></path></svg></svg><svg class=\"SvgIcon rating StarRating--star full\"><svg viewbox=\"0 0 24 24\"><path d=\"M8.005 8.198L.215 9.331a.25.25 0 00-.139.425l5.637 5.496-1.33 7.759a.25.25 0 00.362.263l6.968-3.663 6.968 3.663a.25.25 0 00.363-.263l-1.33-7.76 5.636-5.495a.25.25 0 00-.138-.425l-7.79-1.133-3.485-7.059a.25.25 0 00-.448 0L8.005 8.2\" fill-rule=\"evenodd\"></path></svg></svg><svg class=\"SvgIcon rating StarRating--star full\"><svg viewbox=\"0 0 24 24\"><path d=\"M8.005 8.198L.215 9.331a.25.25 0 00-.139.425l5.637 5.496-1.33 7.759a.25.25 0 00.362.263l6.968-3.663 6.968 3.663a.25.25 0 00.363-.263l-1.33-7.76 5.636-5.495a.25.25 0 00-.138-.425l-7.79-1.133-3.485-7.059a.25.25 0 00-.448 0L8.005 8.2\" fill-rule=\"evenodd\"></path></svg></svg><svg class=\"SvgIcon rating StarRating--star full\"><svg viewbox=\"0 0 24 24\"><path d=\"M8.005 8.198L.215 9.331a.25.25 0 00-.139.425l5.637 5.496-1.33 7.759a.25.25 0 00.362.263l6.968-3.663 6.968 3.663a.25.25 0 00.363-.263l-1.33-7.76 5.636-5.495a.25.25 0 00-.138-.425l-7.79-1.133-3.485-7.059a.25.25 0 00-.448 0L8.005 8.2\" fill-rule=\"evenodd\"></path></svg></svg><svg class=\"SvgIcon rating StarRating--star empty\"><svg viewbox=\"0 0 24 24\"><path d=\"M8.005 8.198L.215 9.331a.25.25 0 00-.139.425l5.637 5.496-1.33 7.759a.25.25 0 00.362.263l6.968-3.663 6.968 3.663a.25.25 0 00.363-.263l-1.33-7.76 5.636-5.495a.25.25 0 00-.138-.425l-7.79-1.133-3.485-7.059a.25.25 0 00-.448 0L8.005 8.2\" fill-rule=\"evenodd\"></path></svg></svg></div></div><div class=\"num-reviews sub-info font-size-small\" role=\"button\" tabindex=\"0\">5<!-- --> reviews</div></div></td></tr><tr class=\"schools-table-row\" data-rf-test-name=\"schools-table-row\"><td class=\"rating-and-name-col\"><div class=\"gs-rating-col\"><div class=\"ellipse\"><div class=\"gs-rating-text\"><span class=\"rating-num\">10</span><span class=\"out-of\">/10</span></div></div></div><div class=\"name-col\"><div class=\"name-and-info\"><div class=\"school-name font-size-base\" data-rf-test-name=\"school-name\"><div class=\"school-title\" role=\"button\">Hobbs Williams Elementary School</div></div><div class=\"sub-info font-color-gray-light font-size-small\">Public<!-- --> • <!-- -->K-5</div></div></div></td><td class=\"num-students-col\"><div class=\"students\">641</div><div class=\"sub-info font-color-gray-light font-size-small\">Students</div></td><td class=\"rating-col\"><div class=\"star-rating rating-row\"><div class=\"StarRating\"><div aria-label=\"Rating 3.0 out of 5\" class=\"stars\"><svg class=\"SvgIcon rating StarRating--star full\"><svg viewbox=\"0 0 24 24\"><path d=\"M8.005 8.198L.215 9.331a.25.25 0 00-.139.425l5.637 5.496-1.33 7.759a.25.25 0 00.362.263l6.968-3.663 6.968 3.663a.25.25 0 00.363-.263l-1.33-7.76 5.636-5.495a.25.25 0 00-.138-.425l-7.79-1.133-3.485-7.059a.25.25 0 00-.448 0L8.005 8.2\" fill-rule=\"evenodd\"></path></svg></svg><svg class=\"SvgIcon rating StarRating--star full\"><svg viewbox=\"0 0 24 24\"><path d=\"M8.005 8.198L.215 9.331a.25.25 0 00-.139.425l5.637 5.496-1.33 7.759a.25.25 0 00.362.263l6.968-3.663 6.968 3.663a.25.25 0 00.363-.263l-1.33-7.76 5.636-5.495a.25.25 0 00-.138-.425l-7.79-1.133-3.485-7.059a.25.25 0 00-.448 0L8.005 8.2\" fill-rule=\"evenodd\"></path></svg></svg><svg class=\"SvgIcon rating StarRating--star full\"><svg viewbox=\"0 0 24 24\"><path d=\"M8.005 8.198L.215 9.331a.25.25 0 00-.139.425l5.637 5.496-1.33 7.759a.25.25 0 00.362.263l6.968-3.663 6.968 3.663a.25.25 0 00.363-.263l-1.33-7.76 5.636-5.495a.25.25 0 00-.138-.425l-7.79-1.133-3.485-7.059a.25.25 0 00-.448 0L8.005 8.2\" fill-rule=\"evenodd\"></path></svg></svg><svg class=\"SvgIcon rating StarRating--star empty\"><svg viewbox=\"0 0 24 24\"><path d=\"M8.005 8.198L.215 9.331a.25.25 0 00-.139.425l5.637 5.496-1.33 7.759a.25.25 0 00.362.263l6.968-3.663 6.968 3.663a.25.25 0 00.363-.263l-1.33-7.76 5.636-5.495a.25.25 0 00-.138-.425l-7.79-1.133-3.485-7.059a.25.25 0 00-.448 0L8.005 8.2\" fill-rule=\"evenodd\"></path></svg></svg><svg class=\"SvgIcon rating StarRating--star empty\"><svg viewbox=\"0 0 24 24\"><path d=\"M8.005 8.198L.215 9.331a.25.25 0 00-.139.425l5.637 5.496-1.33 7.759a.25.25 0 00.362.263l6.968-3.663 6.968 3.663a.25.25 0 00.363-.263l-1.33-7.76 5.636-5.495a.25.25 0 00-.138-.425l-7.79-1.133-3.485-7.059a.25.25 0 00-.448 0L8.005 8.2\" fill-rule=\"evenodd\"></path></svg></svg></div></div><div class=\"num-reviews sub-info font-size-small\" role=\"button\" tabindex=\"0\">4<!-- --> reviews</div></div></td></tr></tbody></table>\n"
     ]
    }
   ],
   "source": [
    "# https://www.youtube.com/watch?v=T1xAqWNdfoY\n",
    "\n",
    "import pandas as pd\n",
    "import requests\n",
    "\n",
    "from bs4 import BeautifulSoup\n",
    "\n",
    "# Get the HTML of the page\n",
    "url = 'https://www.redfin.com/city/30794/TX/Dallas'\n",
    "response = requests.get(url)\n",
    "soup = BeautifulSoup(response.content, 'html.parser')\n",
    "\n",
    "# Find all table tags\n",
    "for table in soup.find_all('table'):\n",
    "    print(table.get('class'))\n",
    "    \n",
    "    \n",
    "table = soup.find('table', class_='basic-table-3')\n",
    "\n",
    "\n",
    "print(table)\n",
    "\n",
    "\n",
    "# ps = soup.find_all('p')\n",
    "\n",
    "# # Print the text of all p tags\n",
    "# for p in ps:\n",
    "#     print(p.text)\n"
   ]
  },
  {
   "cell_type": "code",
   "execution_count": null,
   "id": "455a53c2",
   "metadata": {},
   "outputs": [],
   "source": []
  }
 ],
 "metadata": {
  "kernelspec": {
   "display_name": "Python 3 (ipykernel)",
   "language": "python",
   "name": "python3"
  },
  "language_info": {
   "codemirror_mode": {
    "name": "ipython",
    "version": 3
   },
   "file_extension": ".py",
   "mimetype": "text/x-python",
   "name": "python",
   "nbconvert_exporter": "python",
   "pygments_lexer": "ipython3",
   "version": "3.10.12"
  }
 },
 "nbformat": 4,
 "nbformat_minor": 5
}
