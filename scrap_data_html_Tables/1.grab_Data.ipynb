{
 "cells": [
  {
   "cell_type": "code",
   "execution_count": 3,
   "id": "4d3ca3e4",
   "metadata": {},
   "outputs": [
    {
     "name": "stdout",
     "output_type": "stream",
     "text": [
      "[      Rank                      Vehicle              Driver     Time  \\\n",
      "0      1.0                  Ducati GP22   Francesco Bagnaia  1:30.45   \n",
      "1      2.0                  Ducati GP22         Jack Miller  1:30.52   \n",
      "2      3.0         Aprilia RS-GP (2022)     Aleix Espargaró  1:30.61   \n",
      "3      4.0         Yamaha YZR-M1 (2022)    Fabio Quartararo  1:30.69   \n",
      "4      5.0                  Ducati GP23   Francesco Bagnaia  1:30.70   \n",
      "..     ...                          ...                 ...      ...   \n",
      "186  187.0        Porsche 911 GT3 (991)  Christophe Tinseau  1:48.48   \n",
      "187  188.0    Porsche 911 Turbo S (991)             unknown  1:48.63   \n",
      "188  189.0        Ariel Atom 3 (300 PS)             unknown  1:48.70   \n",
      "189  190.0  Porsche 911 Carrera S (992)  Christophe Tinseau  1:49.22   \n",
      "190  191.0           Porsche 911 GT3 RS  Sebastien Bourdais  1:49.25   \n",
      "\n",
      "        PS / KG  \n",
      "0         - / -  \n",
      "1         - / -  \n",
      "2         - / -  \n",
      "3         - / -  \n",
      "4         - / -  \n",
      "..          ...  \n",
      "186  476 / 1451  \n",
      "187  560 / 1593  \n",
      "188   300 / 531  \n",
      "189  450 / 1553  \n",
      "190  450 / 1400  \n",
      "\n",
      "[191 rows x 5 columns],                      0                                 1\n",
      "0              Country                            France\n",
      "1         Track length              4.18 km / 2.60 miles\n",
      "2            Top speed  324 kph / 201 mph - Honda RC213V\n",
      "3         Track record              1:30.4 - Ducati GP22\n",
      "4     Fastest race lap              1:31.8 - Ducati GP22\n",
      "5    Production record           1:38.5 - Radical SR8 RX\n",
      "6   Front-drive record         1:55.1 - Civic Type R L..\n",
      "7  4-door sedan record          1:49.8 - XE SV Project 8\n",
      "8   Convertible record               1:42.6 - 918 Spyder\n",
      "9  Electric car record           1:50.3 - Taycan Turbo S]\n"
     ]
    }
   ],
   "source": [
    "# https://www.youtube.com/watch?v=ODNMNwgtehk&t=295s\n",
    "\n",
    "import re\n",
    "import pandas as pd\n",
    "\n",
    "\n",
    "df = pd.read_html('https://fastestlaps.com/tracks/le-mans-bugatti')\n",
    "print(df)"
   ]
  },
  {
   "cell_type": "code",
   "execution_count": 2,
   "id": "8a2b585f",
   "metadata": {},
   "outputs": [
    {
     "data": {
      "text/plain": [
       "[      Rank                      Vehicle              Driver     Time  \\\n",
       " 0      1.0                  Ducati GP22   Francesco Bagnaia  1:30.45   \n",
       " 1      2.0                  Ducati GP22         Jack Miller  1:30.52   \n",
       " 2      3.0         Aprilia RS-GP (2022)     Aleix Espargaró  1:30.61   \n",
       " 3      4.0         Yamaha YZR-M1 (2022)    Fabio Quartararo  1:30.69   \n",
       " 4      5.0                  Ducati GP23   Francesco Bagnaia  1:30.70   \n",
       " ..     ...                          ...                 ...      ...   \n",
       " 186  187.0        Porsche 911 GT3 (991)  Christophe Tinseau  1:48.48   \n",
       " 187  188.0    Porsche 911 Turbo S (991)             unknown  1:48.63   \n",
       " 188  189.0        Ariel Atom 3 (300 PS)             unknown  1:48.70   \n",
       " 189  190.0  Porsche 911 Carrera S (992)  Christophe Tinseau  1:49.22   \n",
       " 190  191.0           Porsche 911 GT3 RS  Sebastien Bourdais  1:49.25   \n",
       " \n",
       "         PS / KG  \n",
       " 0         - / -  \n",
       " 1         - / -  \n",
       " 2         - / -  \n",
       " 3         - / -  \n",
       " 4         - / -  \n",
       " ..          ...  \n",
       " 186  476 / 1451  \n",
       " 187  560 / 1593  \n",
       " 188   300 / 531  \n",
       " 189  450 / 1553  \n",
       " 190  450 / 1400  \n",
       " \n",
       " [191 rows x 5 columns],\n",
       "                      0                                 1\n",
       " 0              Country                            France\n",
       " 1         Track length              4.18 km / 2.60 miles\n",
       " 2            Top speed  324 kph / 201 mph - Honda RC213V\n",
       " 3         Track record              1:30.4 - Ducati GP22\n",
       " 4     Fastest race lap              1:31.8 - Ducati GP22\n",
       " 5    Production record           1:38.5 - Radical SR8 RX\n",
       " 6   Front-drive record         1:55.1 - Civic Type R L..\n",
       " 7  4-door sedan record          1:49.8 - XE SV Project 8\n",
       " 8   Convertible record               1:42.6 - 918 Spyder\n",
       " 9  Electric car record           1:50.3 - Taycan Turbo S]"
      ]
     },
     "execution_count": 2,
     "metadata": {},
     "output_type": "execute_result"
    }
   ],
   "source": [
    "df"
   ]
  },
  {
   "cell_type": "code",
   "execution_count": null,
   "id": "35a5f6f8",
   "metadata": {},
   "outputs": [],
   "source": []
  },
  {
   "cell_type": "code",
   "execution_count": null,
   "id": "35da88e8",
   "metadata": {},
   "outputs": [],
   "source": []
  }
 ],
 "metadata": {
  "kernelspec": {
   "display_name": "Python 3 (ipykernel)",
   "language": "python",
   "name": "python3"
  },
  "language_info": {
   "codemirror_mode": {
    "name": "ipython",
    "version": 3
   },
   "file_extension": ".py",
   "mimetype": "text/x-python",
   "name": "python",
   "nbconvert_exporter": "python",
   "pygments_lexer": "ipython3",
   "version": "3.10.12"
  }
 },
 "nbformat": 4,
 "nbformat_minor": 5
}
