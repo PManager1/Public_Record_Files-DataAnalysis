{
 "cells": [
  {
   "cell_type": "code",
   "execution_count": 1,
   "id": "4d3ca3e4",
   "metadata": {},
   "outputs": [
    {
     "ename": "ImportError",
     "evalue": "html5lib not found, please install it",
     "output_type": "error",
     "traceback": [
      "\u001b[0;31m---------------------------------------------------------------------------\u001b[0m",
      "\u001b[0;31mImportError\u001b[0m                               Traceback (most recent call last)",
      "Cell \u001b[0;32mIn[1], line 7\u001b[0m\n\u001b[1;32m      3\u001b[0m \u001b[38;5;28;01mimport\u001b[39;00m \u001b[38;5;21;01mre\u001b[39;00m\n\u001b[1;32m      4\u001b[0m \u001b[38;5;28;01mimport\u001b[39;00m \u001b[38;5;21;01mpandas\u001b[39;00m \u001b[38;5;28;01mas\u001b[39;00m \u001b[38;5;21;01mpd\u001b[39;00m\n\u001b[0;32m----> 7\u001b[0m df \u001b[38;5;241m=\u001b[39m \u001b[43mpd\u001b[49m\u001b[38;5;241;43m.\u001b[39;49m\u001b[43mread_html\u001b[49m\u001b[43m(\u001b[49m\u001b[38;5;124;43m'\u001b[39;49m\u001b[38;5;124;43mhttps://bexar.tx.publicsearch.us/results?department=RP&docTypes=DT&recordedDateRange=20210809\u001b[39;49m\u001b[38;5;124;43m%\u001b[39;49m\u001b[38;5;124;43m2C20230809&searchType=advancedSearch\u001b[39;49m\u001b[38;5;124;43m'\u001b[39;49m\u001b[43m)\u001b[49m\n\u001b[1;32m      8\u001b[0m \u001b[38;5;28mprint\u001b[39m(df)\n",
      "File \u001b[0;32m~/anaconda3/lib/python3.10/site-packages/pandas/io/html.py:1212\u001b[0m, in \u001b[0;36mread_html\u001b[0;34m(io, match, flavor, header, index_col, skiprows, attrs, parse_dates, thousands, encoding, decimal, converters, na_values, keep_default_na, displayed_only, extract_links, dtype_backend)\u001b[0m\n\u001b[1;32m   1208\u001b[0m check_dtype_backend(dtype_backend)\n\u001b[1;32m   1210\u001b[0m io \u001b[38;5;241m=\u001b[39m stringify_path(io)\n\u001b[0;32m-> 1212\u001b[0m \u001b[38;5;28;01mreturn\u001b[39;00m \u001b[43m_parse\u001b[49m\u001b[43m(\u001b[49m\n\u001b[1;32m   1213\u001b[0m \u001b[43m    \u001b[49m\u001b[43mflavor\u001b[49m\u001b[38;5;241;43m=\u001b[39;49m\u001b[43mflavor\u001b[49m\u001b[43m,\u001b[49m\n\u001b[1;32m   1214\u001b[0m \u001b[43m    \u001b[49m\u001b[43mio\u001b[49m\u001b[38;5;241;43m=\u001b[39;49m\u001b[43mio\u001b[49m\u001b[43m,\u001b[49m\n\u001b[1;32m   1215\u001b[0m \u001b[43m    \u001b[49m\u001b[43mmatch\u001b[49m\u001b[38;5;241;43m=\u001b[39;49m\u001b[43mmatch\u001b[49m\u001b[43m,\u001b[49m\n\u001b[1;32m   1216\u001b[0m \u001b[43m    \u001b[49m\u001b[43mheader\u001b[49m\u001b[38;5;241;43m=\u001b[39;49m\u001b[43mheader\u001b[49m\u001b[43m,\u001b[49m\n\u001b[1;32m   1217\u001b[0m \u001b[43m    \u001b[49m\u001b[43mindex_col\u001b[49m\u001b[38;5;241;43m=\u001b[39;49m\u001b[43mindex_col\u001b[49m\u001b[43m,\u001b[49m\n\u001b[1;32m   1218\u001b[0m \u001b[43m    \u001b[49m\u001b[43mskiprows\u001b[49m\u001b[38;5;241;43m=\u001b[39;49m\u001b[43mskiprows\u001b[49m\u001b[43m,\u001b[49m\n\u001b[1;32m   1219\u001b[0m \u001b[43m    \u001b[49m\u001b[43mparse_dates\u001b[49m\u001b[38;5;241;43m=\u001b[39;49m\u001b[43mparse_dates\u001b[49m\u001b[43m,\u001b[49m\n\u001b[1;32m   1220\u001b[0m \u001b[43m    \u001b[49m\u001b[43mthousands\u001b[49m\u001b[38;5;241;43m=\u001b[39;49m\u001b[43mthousands\u001b[49m\u001b[43m,\u001b[49m\n\u001b[1;32m   1221\u001b[0m \u001b[43m    \u001b[49m\u001b[43mattrs\u001b[49m\u001b[38;5;241;43m=\u001b[39;49m\u001b[43mattrs\u001b[49m\u001b[43m,\u001b[49m\n\u001b[1;32m   1222\u001b[0m \u001b[43m    \u001b[49m\u001b[43mencoding\u001b[49m\u001b[38;5;241;43m=\u001b[39;49m\u001b[43mencoding\u001b[49m\u001b[43m,\u001b[49m\n\u001b[1;32m   1223\u001b[0m \u001b[43m    \u001b[49m\u001b[43mdecimal\u001b[49m\u001b[38;5;241;43m=\u001b[39;49m\u001b[43mdecimal\u001b[49m\u001b[43m,\u001b[49m\n\u001b[1;32m   1224\u001b[0m \u001b[43m    \u001b[49m\u001b[43mconverters\u001b[49m\u001b[38;5;241;43m=\u001b[39;49m\u001b[43mconverters\u001b[49m\u001b[43m,\u001b[49m\n\u001b[1;32m   1225\u001b[0m \u001b[43m    \u001b[49m\u001b[43mna_values\u001b[49m\u001b[38;5;241;43m=\u001b[39;49m\u001b[43mna_values\u001b[49m\u001b[43m,\u001b[49m\n\u001b[1;32m   1226\u001b[0m \u001b[43m    \u001b[49m\u001b[43mkeep_default_na\u001b[49m\u001b[38;5;241;43m=\u001b[39;49m\u001b[43mkeep_default_na\u001b[49m\u001b[43m,\u001b[49m\n\u001b[1;32m   1227\u001b[0m \u001b[43m    \u001b[49m\u001b[43mdisplayed_only\u001b[49m\u001b[38;5;241;43m=\u001b[39;49m\u001b[43mdisplayed_only\u001b[49m\u001b[43m,\u001b[49m\n\u001b[1;32m   1228\u001b[0m \u001b[43m    \u001b[49m\u001b[43mextract_links\u001b[49m\u001b[38;5;241;43m=\u001b[39;49m\u001b[43mextract_links\u001b[49m\u001b[43m,\u001b[49m\n\u001b[1;32m   1229\u001b[0m \u001b[43m    \u001b[49m\u001b[43mdtype_backend\u001b[49m\u001b[38;5;241;43m=\u001b[39;49m\u001b[43mdtype_backend\u001b[49m\u001b[43m,\u001b[49m\n\u001b[1;32m   1230\u001b[0m \u001b[43m\u001b[49m\u001b[43m)\u001b[49m\n",
      "File \u001b[0;32m~/anaconda3/lib/python3.10/site-packages/pandas/io/html.py:977\u001b[0m, in \u001b[0;36m_parse\u001b[0;34m(flavor, io, match, attrs, encoding, displayed_only, extract_links, **kwargs)\u001b[0m\n\u001b[1;32m    975\u001b[0m retained \u001b[38;5;241m=\u001b[39m \u001b[38;5;28;01mNone\u001b[39;00m\n\u001b[1;32m    976\u001b[0m \u001b[38;5;28;01mfor\u001b[39;00m flav \u001b[38;5;129;01min\u001b[39;00m flavor:\n\u001b[0;32m--> 977\u001b[0m     parser \u001b[38;5;241m=\u001b[39m \u001b[43m_parser_dispatch\u001b[49m\u001b[43m(\u001b[49m\u001b[43mflav\u001b[49m\u001b[43m)\u001b[49m\n\u001b[1;32m    978\u001b[0m     p \u001b[38;5;241m=\u001b[39m parser(io, compiled_match, attrs, encoding, displayed_only, extract_links)\n\u001b[1;32m    980\u001b[0m     \u001b[38;5;28;01mtry\u001b[39;00m:\n",
      "File \u001b[0;32m~/anaconda3/lib/python3.10/site-packages/pandas/io/html.py:926\u001b[0m, in \u001b[0;36m_parser_dispatch\u001b[0;34m(flavor)\u001b[0m\n\u001b[1;32m    924\u001b[0m \u001b[38;5;28;01mif\u001b[39;00m flavor \u001b[38;5;129;01min\u001b[39;00m (\u001b[38;5;124m\"\u001b[39m\u001b[38;5;124mbs4\u001b[39m\u001b[38;5;124m\"\u001b[39m, \u001b[38;5;124m\"\u001b[39m\u001b[38;5;124mhtml5lib\u001b[39m\u001b[38;5;124m\"\u001b[39m):\n\u001b[1;32m    925\u001b[0m     \u001b[38;5;28;01mif\u001b[39;00m \u001b[38;5;129;01mnot\u001b[39;00m _HAS_HTML5LIB:\n\u001b[0;32m--> 926\u001b[0m         \u001b[38;5;28;01mraise\u001b[39;00m \u001b[38;5;167;01mImportError\u001b[39;00m(\u001b[38;5;124m\"\u001b[39m\u001b[38;5;124mhtml5lib not found, please install it\u001b[39m\u001b[38;5;124m\"\u001b[39m)\n\u001b[1;32m    927\u001b[0m     \u001b[38;5;28;01mif\u001b[39;00m \u001b[38;5;129;01mnot\u001b[39;00m _HAS_BS4:\n\u001b[1;32m    928\u001b[0m         \u001b[38;5;28;01mraise\u001b[39;00m \u001b[38;5;167;01mImportError\u001b[39;00m(\u001b[38;5;124m\"\u001b[39m\u001b[38;5;124mBeautifulSoup4 (bs4) not found, please install it\u001b[39m\u001b[38;5;124m\"\u001b[39m)\n",
      "\u001b[0;31mImportError\u001b[0m: html5lib not found, please install it"
     ]
    }
   ],
   "source": [
    "# https://www.youtube.com/watch?v=ODNMNwgtehk&t=295s\n",
    "\n",
    "import re\n",
    "import pandas as pd\n",
    "\n",
    "# a11y-table\n",
    "\n",
    "df = pd.read_html('https://bexar.tx.publicsearch.us/results?department=RP&docTypes=DT&recordedDateRange=20210809%2C20230809&searchType=advancedSearch')\n",
    "print(df)"
   ]
  },
  {
   "cell_type": "code",
   "execution_count": 6,
   "id": "3b688b02",
   "metadata": {},
   "outputs": [
    {
     "name": "stdout",
     "output_type": "stream",
     "text": [
      "['basic-table-3']\n",
      "<table class=\"basic-table-3\"><tbody><tr class=\"schools-table-row\" data-rf-test-name=\"schools-table-row\"><td class=\"rating-and-name-col\"><div class=\"gs-rating-col\"><div class=\"ellipse\"><div class=\"gs-rating-text\"><span class=\"rating-num\">10</span><span class=\"out-of\">/10</span></div></div></div><div class=\"name-col\"><div class=\"name-and-info\"><div class=\"school-name font-size-base\" data-rf-test-name=\"school-name\"><div class=\"school-title\" role=\"button\">William B Travis Acdmy/vngrd For A</div></div><div class=\"sub-info font-color-gray-light font-size-small\">Public<!-- --> • <!-- -->4-8</div></div></div></td><td class=\"num-students-col\"><div class=\"students\">521</div><div class=\"sub-info font-color-gray-light font-size-small\">Students</div></td><td class=\"rating-col\"><div class=\"star-rating rating-row\"><div class=\"StarRating\"><div aria-label=\"Rating 4.0 out of 5\" class=\"stars\"><svg class=\"SvgIcon rating StarRating--star full\"><svg viewbox=\"0 0 24 24\"><path d=\"M8.005 8.198L.215 9.331a.25.25 0 00-.139.425l5.637 5.496-1.33 7.759a.25.25 0 00.362.263l6.968-3.663 6.968 3.663a.25.25 0 00.363-.263l-1.33-7.76 5.636-5.495a.25.25 0 00-.138-.425l-7.79-1.133-3.485-7.059a.25.25 0 00-.448 0L8.005 8.2\" fill-rule=\"evenodd\"></path></svg></svg><svg class=\"SvgIcon rating StarRating--star full\"><svg viewbox=\"0 0 24 24\"><path d=\"M8.005 8.198L.215 9.331a.25.25 0 00-.139.425l5.637 5.496-1.33 7.759a.25.25 0 00.362.263l6.968-3.663 6.968 3.663a.25.25 0 00.363-.263l-1.33-7.76 5.636-5.495a.25.25 0 00-.138-.425l-7.79-1.133-3.485-7.059a.25.25 0 00-.448 0L8.005 8.2\" fill-rule=\"evenodd\"></path></svg></svg><svg class=\"SvgIcon rating StarRating--star full\"><svg viewbox=\"0 0 24 24\"><path d=\"M8.005 8.198L.215 9.331a.25.25 0 00-.139.425l5.637 5.496-1.33 7.759a.25.25 0 00.362.263l6.968-3.663 6.968 3.663a.25.25 0 00.363-.263l-1.33-7.76 5.636-5.495a.25.25 0 00-.138-.425l-7.79-1.133-3.485-7.059a.25.25 0 00-.448 0L8.005 8.2\" fill-rule=\"evenodd\"></path></svg></svg><svg class=\"SvgIcon rating StarRating--star full\"><svg viewbox=\"0 0 24 24\"><path d=\"M8.005 8.198L.215 9.331a.25.25 0 00-.139.425l5.637 5.496-1.33 7.759a.25.25 0 00.362.263l6.968-3.663 6.968 3.663a.25.25 0 00.363-.263l-1.33-7.76 5.636-5.495a.25.25 0 00-.138-.425l-7.79-1.133-3.485-7.059a.25.25 0 00-.448 0L8.005 8.2\" fill-rule=\"evenodd\"></path></svg></svg><svg class=\"SvgIcon rating StarRating--star empty\"><svg viewbox=\"0 0 24 24\"><path d=\"M8.005 8.198L.215 9.331a.25.25 0 00-.139.425l5.637 5.496-1.33 7.759a.25.25 0 00.362.263l6.968-3.663 6.968 3.663a.25.25 0 00.363-.263l-1.33-7.76 5.636-5.495a.25.25 0 00-.138-.425l-7.79-1.133-3.485-7.059a.25.25 0 00-.448 0L8.005 8.2\" fill-rule=\"evenodd\"></path></svg></svg></div></div><div class=\"num-reviews sub-info font-size-small\" role=\"button\" tabindex=\"0\">14<!-- --> reviews</div></div></td></tr><tr class=\"schools-table-row\" data-rf-test-name=\"schools-table-row\"><td class=\"rating-and-name-col\"><div class=\"gs-rating-col\"><div class=\"ellipse\"><div class=\"gs-rating-text\"><span class=\"rating-num\">10</span><span class=\"out-of\">/10</span></div></div></div><div class=\"name-col\"><div class=\"name-and-info\"><div class=\"school-name font-size-base\" data-rf-test-name=\"school-name\"><div class=\"school-title\" role=\"button\">Don Whitt Elementary School</div></div><div class=\"sub-info font-color-gray-light font-size-small\">Public<!-- --> • <!-- -->PreK-4</div></div></div></td><td class=\"num-students-col\"><div class=\"students\">664</div><div class=\"sub-info font-color-gray-light font-size-small\">Students</div></td><td class=\"rating-col\"><div class=\"star-rating rating-row\"><div class=\"StarRating\"><div aria-label=\"Rating 5.0 out of 5\" class=\"stars\"><svg class=\"SvgIcon rating StarRating--star full\"><svg viewbox=\"0 0 24 24\"><path d=\"M8.005 8.198L.215 9.331a.25.25 0 00-.139.425l5.637 5.496-1.33 7.759a.25.25 0 00.362.263l6.968-3.663 6.968 3.663a.25.25 0 00.363-.263l-1.33-7.76 5.636-5.495a.25.25 0 00-.138-.425l-7.79-1.133-3.485-7.059a.25.25 0 00-.448 0L8.005 8.2\" fill-rule=\"evenodd\"></path></svg></svg><svg class=\"SvgIcon rating StarRating--star full\"><svg viewbox=\"0 0 24 24\"><path d=\"M8.005 8.198L.215 9.331a.25.25 0 00-.139.425l5.637 5.496-1.33 7.759a.25.25 0 00.362.263l6.968-3.663 6.968 3.663a.25.25 0 00.363-.263l-1.33-7.76 5.636-5.495a.25.25 0 00-.138-.425l-7.79-1.133-3.485-7.059a.25.25 0 00-.448 0L8.005 8.2\" fill-rule=\"evenodd\"></path></svg></svg><svg class=\"SvgIcon rating StarRating--star full\"><svg viewbox=\"0 0 24 24\"><path d=\"M8.005 8.198L.215 9.331a.25.25 0 00-.139.425l5.637 5.496-1.33 7.759a.25.25 0 00.362.263l6.968-3.663 6.968 3.663a.25.25 0 00.363-.263l-1.33-7.76 5.636-5.495a.25.25 0 00-.138-.425l-7.79-1.133-3.485-7.059a.25.25 0 00-.448 0L8.005 8.2\" fill-rule=\"evenodd\"></path></svg></svg><svg class=\"SvgIcon rating StarRating--star full\"><svg viewbox=\"0 0 24 24\"><path d=\"M8.005 8.198L.215 9.331a.25.25 0 00-.139.425l5.637 5.496-1.33 7.759a.25.25 0 00.362.263l6.968-3.663 6.968 3.663a.25.25 0 00.363-.263l-1.33-7.76 5.636-5.495a.25.25 0 00-.138-.425l-7.79-1.133-3.485-7.059a.25.25 0 00-.448 0L8.005 8.2\" fill-rule=\"evenodd\"></path></svg></svg><svg class=\"SvgIcon rating StarRating--star full\"><svg viewbox=\"0 0 24 24\"><path d=\"M8.005 8.198L.215 9.331a.25.25 0 00-.139.425l5.637 5.496-1.33 7.759a.25.25 0 00.362.263l6.968-3.663 6.968 3.663a.25.25 0 00.363-.263l-1.33-7.76 5.636-5.495a.25.25 0 00-.138-.425l-7.79-1.133-3.485-7.059a.25.25 0 00-.448 0L8.005 8.2\" fill-rule=\"evenodd\"></path></svg></svg></div></div><div class=\"num-reviews sub-info font-size-small\" role=\"button\" tabindex=\"0\">14<!-- --> reviews</div></div></td></tr><tr class=\"schools-table-row\" data-rf-test-name=\"schools-table-row\"><td class=\"rating-and-name-col\"><div class=\"gs-rating-col\"><div class=\"ellipse\"><div class=\"gs-rating-text\"><span class=\"rating-num\">10</span><span class=\"out-of\">/10</span></div></div></div><div class=\"name-col\"><div class=\"name-and-info\"><div class=\"school-name font-size-base\" data-rf-test-name=\"school-name\"><div class=\"school-title\" role=\"button\">R F Hartman Elementary School</div></div><div class=\"sub-info font-color-gray-light font-size-small\">Public<!-- --> • <!-- -->PreK-4</div></div></div></td><td class=\"num-students-col\"><div class=\"students\">534</div><div class=\"sub-info font-color-gray-light font-size-small\">Students</div></td><td class=\"rating-col\"><div class=\"star-rating rating-row\"><div class=\"StarRating\"><div aria-label=\"Rating 5.0 out of 5\" class=\"stars\"><svg class=\"SvgIcon rating StarRating--star full\"><svg viewbox=\"0 0 24 24\"><path d=\"M8.005 8.198L.215 9.331a.25.25 0 00-.139.425l5.637 5.496-1.33 7.759a.25.25 0 00.362.263l6.968-3.663 6.968 3.663a.25.25 0 00.363-.263l-1.33-7.76 5.636-5.495a.25.25 0 00-.138-.425l-7.79-1.133-3.485-7.059a.25.25 0 00-.448 0L8.005 8.2\" fill-rule=\"evenodd\"></path></svg></svg><svg class=\"SvgIcon rating StarRating--star full\"><svg viewbox=\"0 0 24 24\"><path d=\"M8.005 8.198L.215 9.331a.25.25 0 00-.139.425l5.637 5.496-1.33 7.759a.25.25 0 00.362.263l6.968-3.663 6.968 3.663a.25.25 0 00.363-.263l-1.33-7.76 5.636-5.495a.25.25 0 00-.138-.425l-7.79-1.133-3.485-7.059a.25.25 0 00-.448 0L8.005 8.2\" fill-rule=\"evenodd\"></path></svg></svg><svg class=\"SvgIcon rating StarRating--star full\"><svg viewbox=\"0 0 24 24\"><path d=\"M8.005 8.198L.215 9.331a.25.25 0 00-.139.425l5.637 5.496-1.33 7.759a.25.25 0 00.362.263l6.968-3.663 6.968 3.663a.25.25 0 00.363-.263l-1.33-7.76 5.636-5.495a.25.25 0 00-.138-.425l-7.79-1.133-3.485-7.059a.25.25 0 00-.448 0L8.005 8.2\" fill-rule=\"evenodd\"></path></svg></svg><svg class=\"SvgIcon rating StarRating--star full\"><svg viewbox=\"0 0 24 24\"><path d=\"M8.005 8.198L.215 9.331a.25.25 0 00-.139.425l5.637 5.496-1.33 7.759a.25.25 0 00.362.263l6.968-3.663 6.968 3.663a.25.25 0 00.363-.263l-1.33-7.76 5.636-5.495a.25.25 0 00-.138-.425l-7.79-1.133-3.485-7.059a.25.25 0 00-.448 0L8.005 8.2\" fill-rule=\"evenodd\"></path></svg></svg><svg class=\"SvgIcon rating StarRating--star full\"><svg viewbox=\"0 0 24 24\"><path d=\"M8.005 8.198L.215 9.331a.25.25 0 00-.139.425l5.637 5.496-1.33 7.759a.25.25 0 00.362.263l6.968-3.663 6.968 3.663a.25.25 0 00.363-.263l-1.33-7.76 5.636-5.495a.25.25 0 00-.138-.425l-7.79-1.133-3.485-7.059a.25.25 0 00-.448 0L8.005 8.2\" fill-rule=\"evenodd\"></path></svg></svg></div></div><div class=\"num-reviews sub-info font-size-small\" role=\"button\" tabindex=\"0\">4<!-- --> reviews</div></div></td></tr><tr class=\"schools-table-row\" data-rf-test-name=\"schools-table-row\"><td class=\"rating-and-name-col\"><div class=\"gs-rating-col\"><div class=\"ellipse\"><div class=\"gs-rating-text\"><span class=\"rating-num\">10</span><span class=\"out-of\">/10</span></div></div></div><div class=\"name-col\"><div class=\"name-and-info\"><div class=\"school-name font-size-base\" data-rf-test-name=\"school-name\"><div class=\"school-title\" role=\"button\">Hyer Elementary School</div></div><div class=\"sub-info font-color-gray-light font-size-small\">Public<!-- --> • <!-- -->PreK-4</div></div></div></td><td class=\"num-students-col\"><div class=\"students\">664</div><div class=\"sub-info font-color-gray-light font-size-small\">Students</div></td><td class=\"rating-col\"><div class=\"star-rating rating-row\"><div class=\"StarRating\"><div aria-label=\"Rating 4.0 out of 5\" class=\"stars\"><svg class=\"SvgIcon rating StarRating--star full\"><svg viewbox=\"0 0 24 24\"><path d=\"M8.005 8.198L.215 9.331a.25.25 0 00-.139.425l5.637 5.496-1.33 7.759a.25.25 0 00.362.263l6.968-3.663 6.968 3.663a.25.25 0 00.363-.263l-1.33-7.76 5.636-5.495a.25.25 0 00-.138-.425l-7.79-1.133-3.485-7.059a.25.25 0 00-.448 0L8.005 8.2\" fill-rule=\"evenodd\"></path></svg></svg><svg class=\"SvgIcon rating StarRating--star full\"><svg viewbox=\"0 0 24 24\"><path d=\"M8.005 8.198L.215 9.331a.25.25 0 00-.139.425l5.637 5.496-1.33 7.759a.25.25 0 00.362.263l6.968-3.663 6.968 3.663a.25.25 0 00.363-.263l-1.33-7.76 5.636-5.495a.25.25 0 00-.138-.425l-7.79-1.133-3.485-7.059a.25.25 0 00-.448 0L8.005 8.2\" fill-rule=\"evenodd\"></path></svg></svg><svg class=\"SvgIcon rating StarRating--star full\"><svg viewbox=\"0 0 24 24\"><path d=\"M8.005 8.198L.215 9.331a.25.25 0 00-.139.425l5.637 5.496-1.33 7.759a.25.25 0 00.362.263l6.968-3.663 6.968 3.663a.25.25 0 00.363-.263l-1.33-7.76 5.636-5.495a.25.25 0 00-.138-.425l-7.79-1.133-3.485-7.059a.25.25 0 00-.448 0L8.005 8.2\" fill-rule=\"evenodd\"></path></svg></svg><svg class=\"SvgIcon rating StarRating--star full\"><svg viewbox=\"0 0 24 24\"><path d=\"M8.005 8.198L.215 9.331a.25.25 0 00-.139.425l5.637 5.496-1.33 7.759a.25.25 0 00.362.263l6.968-3.663 6.968 3.663a.25.25 0 00.363-.263l-1.33-7.76 5.636-5.495a.25.25 0 00-.138-.425l-7.79-1.133-3.485-7.059a.25.25 0 00-.448 0L8.005 8.2\" fill-rule=\"evenodd\"></path></svg></svg><svg class=\"SvgIcon rating StarRating--star empty\"><svg viewbox=\"0 0 24 24\"><path d=\"M8.005 8.198L.215 9.331a.25.25 0 00-.139.425l5.637 5.496-1.33 7.759a.25.25 0 00.362.263l6.968-3.663 6.968 3.663a.25.25 0 00.363-.263l-1.33-7.76 5.636-5.495a.25.25 0 00-.138-.425l-7.79-1.133-3.485-7.059a.25.25 0 00-.448 0L8.005 8.2\" fill-rule=\"evenodd\"></path></svg></svg></div></div><div class=\"num-reviews sub-info font-size-small\" role=\"button\" tabindex=\"0\">5<!-- --> reviews</div></div></td></tr><tr class=\"schools-table-row\" data-rf-test-name=\"schools-table-row\"><td class=\"rating-and-name-col\"><div class=\"gs-rating-col\"><div class=\"ellipse\"><div class=\"gs-rating-text\"><span class=\"rating-num\">10</span><span class=\"out-of\">/10</span></div></div></div><div class=\"name-col\"><div class=\"name-and-info\"><div class=\"school-name font-size-base\" data-rf-test-name=\"school-name\"><div class=\"school-title\" role=\"button\">Hobbs Williams Elementary School</div></div><div class=\"sub-info font-color-gray-light font-size-small\">Public<!-- --> • <!-- -->K-5</div></div></div></td><td class=\"num-students-col\"><div class=\"students\">641</div><div class=\"sub-info font-color-gray-light font-size-small\">Students</div></td><td class=\"rating-col\"><div class=\"star-rating rating-row\"><div class=\"StarRating\"><div aria-label=\"Rating 3.0 out of 5\" class=\"stars\"><svg class=\"SvgIcon rating StarRating--star full\"><svg viewbox=\"0 0 24 24\"><path d=\"M8.005 8.198L.215 9.331a.25.25 0 00-.139.425l5.637 5.496-1.33 7.759a.25.25 0 00.362.263l6.968-3.663 6.968 3.663a.25.25 0 00.363-.263l-1.33-7.76 5.636-5.495a.25.25 0 00-.138-.425l-7.79-1.133-3.485-7.059a.25.25 0 00-.448 0L8.005 8.2\" fill-rule=\"evenodd\"></path></svg></svg><svg class=\"SvgIcon rating StarRating--star full\"><svg viewbox=\"0 0 24 24\"><path d=\"M8.005 8.198L.215 9.331a.25.25 0 00-.139.425l5.637 5.496-1.33 7.759a.25.25 0 00.362.263l6.968-3.663 6.968 3.663a.25.25 0 00.363-.263l-1.33-7.76 5.636-5.495a.25.25 0 00-.138-.425l-7.79-1.133-3.485-7.059a.25.25 0 00-.448 0L8.005 8.2\" fill-rule=\"evenodd\"></path></svg></svg><svg class=\"SvgIcon rating StarRating--star full\"><svg viewbox=\"0 0 24 24\"><path d=\"M8.005 8.198L.215 9.331a.25.25 0 00-.139.425l5.637 5.496-1.33 7.759a.25.25 0 00.362.263l6.968-3.663 6.968 3.663a.25.25 0 00.363-.263l-1.33-7.76 5.636-5.495a.25.25 0 00-.138-.425l-7.79-1.133-3.485-7.059a.25.25 0 00-.448 0L8.005 8.2\" fill-rule=\"evenodd\"></path></svg></svg><svg class=\"SvgIcon rating StarRating--star empty\"><svg viewbox=\"0 0 24 24\"><path d=\"M8.005 8.198L.215 9.331a.25.25 0 00-.139.425l5.637 5.496-1.33 7.759a.25.25 0 00.362.263l6.968-3.663 6.968 3.663a.25.25 0 00.363-.263l-1.33-7.76 5.636-5.495a.25.25 0 00-.138-.425l-7.79-1.133-3.485-7.059a.25.25 0 00-.448 0L8.005 8.2\" fill-rule=\"evenodd\"></path></svg></svg><svg class=\"SvgIcon rating StarRating--star empty\"><svg viewbox=\"0 0 24 24\"><path d=\"M8.005 8.198L.215 9.331a.25.25 0 00-.139.425l5.637 5.496-1.33 7.759a.25.25 0 00.362.263l6.968-3.663 6.968 3.663a.25.25 0 00.363-.263l-1.33-7.76 5.636-5.495a.25.25 0 00-.138-.425l-7.79-1.133-3.485-7.059a.25.25 0 00-.448 0L8.005 8.2\" fill-rule=\"evenodd\"></path></svg></svg></div></div><div class=\"num-reviews sub-info font-size-small\" role=\"button\" tabindex=\"0\">4<!-- --> reviews</div></div></td></tr></tbody></table>\n"
     ]
    }
   ],
   "source": [
    "# https://www.youtube.com/watch?v=T1xAqWNdfoY\n",
    "\n",
    "import pandas as pd\n",
    "import requests\n",
    "\n",
    "from bs4 import BeautifulSoup\n",
    "\n",
    "# Get the HTML of the page\n",
    "url = 'https://www.redfin.com/city/30794/TX/Dallas'\n",
    "response = requests.get(url)\n",
    "soup = BeautifulSoup(response.content, 'html.parser')\n",
    "\n",
    "# Find all table tags\n",
    "for table in soup.find_all('table'):\n",
    "    print(table.get('class'))\n",
    "    \n",
    "    \n",
    "table = soup.find('table', class_='basic-table-3')\n",
    "\n",
    "\n",
    "print(table)\n",
    "\n",
    "\n",
    "# ps = soup.find_all('p')\n",
    "\n",
    "# # Print the text of all p tags\n",
    "# for p in ps:\n",
    "#     print(p.text)\n"
   ]
  },
  {
   "cell_type": "code",
   "execution_count": 7,
   "id": "455a53c2",
   "metadata": {},
   "outputs": [
    {
     "name": "stdout",
     "output_type": "stream",
     "text": [
      "Your web browser is out of date. Update your browser for more security, speed and the best experience on this site.\n"
     ]
    }
   ],
   "source": [
    "\n",
    "\n",
    "\n",
    "# https://www.youtube.com/watch?v=T1xAqWNdfoY\n",
    "\n",
    "import pandas as pd\n",
    "import requests\n",
    "\n",
    "from bs4 import BeautifulSoup\n",
    "\n",
    "# Get the HTML of the page\n",
    "url = 'https://bexar.tx.publicsearch.us/results?department=RP&docTypes=DT&recordedDateRange=20210809%2C20230809&searchType=advancedSearch'\n",
    "response = requests.get(url)\n",
    "soup = BeautifulSoup(response.content, 'html.parser')\n",
    "\n",
    "# Find all table tags\n",
    "for table in soup.find_all('table'):\n",
    "    print(table.get('class'))\n",
    "    \n",
    "    \n",
    "# table = soup.find('table', class_='a11y-table')\n",
    "\n",
    "\n",
    "# print(table)\n",
    "\n",
    "\n",
    "ps = soup.find_all('p')\n",
    "\n",
    "# Print the text of all p tags\n",
    "for p in ps:\n",
    "    print(p.text)\n",
    "\n"
   ]
  },
  {
   "cell_type": "code",
   "execution_count": null,
   "id": "b283f0a5",
   "metadata": {},
   "outputs": [],
   "source": []
  }
 ],
 "metadata": {
  "kernelspec": {
   "display_name": "Python 3 (ipykernel)",
   "language": "python",
   "name": "python3"
  },
  "language_info": {
   "codemirror_mode": {
    "name": "ipython",
    "version": 3
   },
   "file_extension": ".py",
   "mimetype": "text/x-python",
   "name": "python",
   "nbconvert_exporter": "python",
   "pygments_lexer": "ipython3",
   "version": "3.10.12"
  }
 },
 "nbformat": 4,
 "nbformat_minor": 5
}
