{
 "cells": [
  {
   "cell_type": "code",
   "execution_count": 2,
   "id": "4d3ca3e4",
   "metadata": {},
   "outputs": [
    {
     "name": "stdout",
     "output_type": "stream",
     "text": [
      "The request was successful\n"
     ]
    }
   ],
   "source": [
    "import requests\n",
    "\n",
    "# Make an ajax request to the google homepage\n",
    "response = requests.get('https://www.google.com')\n",
    "\n",
    "# Check the status code of the response\n",
    "if response.status_code == 200:\n",
    "  # The request was successful\n",
    "  print('The request was successful')\n",
    "else:\n",
    "  # The request failed\n",
    "  print('The request failed')"
   ]
  },
  {
   "cell_type": "code",
   "execution_count": 3,
   "id": "e5dc2660",
   "metadata": {},
   "outputs": [
    {
     "ename": "FileNotFoundError",
     "evalue": "[Errno 2] No such file or directory: 'input.csv'",
     "output_type": "error",
     "traceback": [
      "\u001b[0;31m---------------------------------------------------------------------------\u001b[0m",
      "\u001b[0;31mFileNotFoundError\u001b[0m                         Traceback (most recent call last)",
      "Cell \u001b[0;32mIn[3], line 25\u001b[0m\n\u001b[1;32m     22\u001b[0m     \u001b[38;5;28;01mreturn\u001b[39;00m row\n\u001b[1;32m     24\u001b[0m \u001b[38;5;66;03m# Read the CSV file\u001b[39;00m\n\u001b[0;32m---> 25\u001b[0m \u001b[38;5;28;01mwith\u001b[39;00m \u001b[38;5;28mopen\u001b[39m(\u001b[38;5;124m'\u001b[39m\u001b[38;5;124minput.csv\u001b[39m\u001b[38;5;124m'\u001b[39m, mode\u001b[38;5;241m=\u001b[39m\u001b[38;5;124m'\u001b[39m\u001b[38;5;124mr\u001b[39m\u001b[38;5;124m'\u001b[39m) \u001b[38;5;28;01mas\u001b[39;00m csv_file:\n\u001b[1;32m     26\u001b[0m     csv_reader \u001b[38;5;241m=\u001b[39m csv\u001b[38;5;241m.\u001b[39mreader(csv_file)\n\u001b[1;32m     27\u001b[0m     rows \u001b[38;5;241m=\u001b[39m \u001b[38;5;28mlist\u001b[39m(csv_reader)\n",
      "File \u001b[0;32m~/anaconda3/lib/python3.11/site-packages/IPython/core/interactiveshell.py:284\u001b[0m, in \u001b[0;36m_modified_open\u001b[0;34m(file, *args, **kwargs)\u001b[0m\n\u001b[1;32m    277\u001b[0m \u001b[38;5;28;01mif\u001b[39;00m file \u001b[38;5;129;01min\u001b[39;00m {\u001b[38;5;241m0\u001b[39m, \u001b[38;5;241m1\u001b[39m, \u001b[38;5;241m2\u001b[39m}:\n\u001b[1;32m    278\u001b[0m     \u001b[38;5;28;01mraise\u001b[39;00m \u001b[38;5;167;01mValueError\u001b[39;00m(\n\u001b[1;32m    279\u001b[0m         \u001b[38;5;124mf\u001b[39m\u001b[38;5;124m\"\u001b[39m\u001b[38;5;124mIPython won\u001b[39m\u001b[38;5;124m'\u001b[39m\u001b[38;5;124mt let you open fd=\u001b[39m\u001b[38;5;132;01m{\u001b[39;00mfile\u001b[38;5;132;01m}\u001b[39;00m\u001b[38;5;124m by default \u001b[39m\u001b[38;5;124m\"\u001b[39m\n\u001b[1;32m    280\u001b[0m         \u001b[38;5;124m\"\u001b[39m\u001b[38;5;124mas it is likely to crash IPython. If you know what you are doing, \u001b[39m\u001b[38;5;124m\"\u001b[39m\n\u001b[1;32m    281\u001b[0m         \u001b[38;5;124m\"\u001b[39m\u001b[38;5;124myou can use builtins\u001b[39m\u001b[38;5;124m'\u001b[39m\u001b[38;5;124m open.\u001b[39m\u001b[38;5;124m\"\u001b[39m\n\u001b[1;32m    282\u001b[0m     )\n\u001b[0;32m--> 284\u001b[0m \u001b[38;5;28;01mreturn\u001b[39;00m io_open(file, \u001b[38;5;241m*\u001b[39margs, \u001b[38;5;241m*\u001b[39m\u001b[38;5;241m*\u001b[39mkwargs)\n",
      "\u001b[0;31mFileNotFoundError\u001b[0m: [Errno 2] No such file or directory: 'input.csv'"
     ]
    }
   ],
   "source": [
    "import csv\n",
    "import requests\n",
    "\n",
    "# Function to make an AJAX request and update a row\n",
    "def make_ajax_request_and_update(row):\n",
    "    # Extract data from the row (adjust column indices as needed)\n",
    "    value1 = row[0]  # Assuming the first column contains the data you want to send\n",
    " #remove this \n",
    "    value1 = '1'\n",
    "    # Make an AJAX request to your server endpoint\n",
    "    # Replace 'your_ajax_endpoint' with your actual endpoint\n",
    "    response = requests.get('https://www.google.com', params={'value1': value1})\n",
    "\n",
    "    # Process the response from the server\n",
    "    if response.status_code == 200:\n",
    "        # Assuming the response contains the updated value\n",
    "        updated_value = response.json().get('updated_value')\n",
    "\n",
    "        # Update the CSV row with the new value (adjust column index)\n",
    "        row[1] = updated_value  # Assuming you want to update the second column\n",
    "    \n",
    "    return row\n",
    "\n",
    "# Read the CSV file\n",
    "with open('IrvingTx_Lots2.csv', mode='r') as csv_file:\n",
    "    csv_reader = csv.reader(csv_file)\n",
    "    rows = list(csv_reader)\n",
    "\n",
    "# Process each row and make AJAX requests\n",
    "updated_rows = []\n",
    "for row in rows:\n",
    "    updated_row = make_ajax_request_and_update(row)\n",
    "    updated_rows.append(updated_row)\n",
    "\n",
    "# Save the updated rows to a new CSV file\n",
    "with open('output.csv', mode='w', newline='') as csv_file:\n",
    "    csv_writer = csv.writer(csv_file)\n",
    "    csv_writer.writerows(updated_rows)\n"
   ]
  },
  {
   "cell_type": "code",
   "execution_count": null,
   "id": "678fbc18",
   "metadata": {},
   "outputs": [],
   "source": []
  }
 ],
 "metadata": {
  "kernelspec": {
   "display_name": "Python 3 (ipykernel)",
   "language": "python",
   "name": "python3"
  },
  "language_info": {
   "codemirror_mode": {
    "name": "ipython",
    "version": 3
   },
   "file_extension": ".py",
   "mimetype": "text/x-python",
   "name": "python",
   "nbconvert_exporter": "python",
   "pygments_lexer": "ipython3",
   "version": "3.11.4"
  }
 },
 "nbformat": 4,
 "nbformat_minor": 5
}
