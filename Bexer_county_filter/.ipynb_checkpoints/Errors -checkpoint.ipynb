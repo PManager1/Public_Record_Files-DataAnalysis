{
 "cells": [
  {
   "cell_type": "code",
   "execution_count": 14,
   "id": "dbd91507",
   "metadata": {},
   "outputs": [],
   "source": [
    "import pandas as pd\n",
    "\n",
    "\n",
    "AttributeError: 'float' object has no attribute 'lower'\n",
    "https://stackoverflow.com/questions/34724246/attributeerror-float-object-has-no-attribute-lower\n",
    "    \n",
    "    \n",
    "    \n",
    "    \n",
    "TypeError: sequence item 32: expected str instance, float found\n",
    "This happens becuase it reads null from the excel file.  so easy to fix.  simply delete the cells below the last value in the excel. \n",
    "More: \n",
    "https://stackoverflow.com/questions/55998672/how-to-fix-this-typeerror-sequence-item-0-expected-str-instance-float-found\n",
    "\n",
    "    \n"
   ]
  },
  {
   "cell_type": "code",
   "execution_count": null,
   "id": "ef95fb40",
   "metadata": {},
   "outputs": [],
   "source": []
  },
  {
   "cell_type": "code",
   "execution_count": null,
   "id": "c4f63d93",
   "metadata": {},
   "outputs": [],
   "source": []
  },
  {
   "cell_type": "code",
   "execution_count": null,
   "id": "d467ac42",
   "metadata": {},
   "outputs": [],
   "source": []
  }
 ],
 "metadata": {
  "kernelspec": {
   "display_name": "Python 3 (ipykernel)",
   "language": "python",
   "name": "python3"
  },
  "language_info": {
   "codemirror_mode": {
    "name": "ipython",
    "version": 3
   },
   "file_extension": ".py",
   "mimetype": "text/x-python",
   "name": "python",
   "nbconvert_exporter": "python",
   "pygments_lexer": "ipython3",
   "version": "3.11.4"
  }
 },
 "nbformat": 4,
 "nbformat_minor": 5
}
