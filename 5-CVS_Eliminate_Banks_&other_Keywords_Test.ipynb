{
 "cells": [
  {
   "cell_type": "code",
   "execution_count": 43,
   "id": "d87bce51",
   "metadata": {},
   "outputs": [],
   "source": [
    "# https://stackoverflow.com/questions/1801668/convert-a-list-with-strings-all-to-lowercase-or-uppercase\n",
    "\n",
    "import pandas as pd"
   ]
  },
  {
   "cell_type": "code",
   "execution_count": 49,
   "id": "67dd73a8",
   "metadata": {},
   "outputs": [
    {
     "data": {
      "text/plain": [
       "['bank',\n",
       " 'credit union',\n",
       " 'mortgage',\n",
       " 'wyndham vacation resorts inc',\n",
       " 'veterans affairs',\n",
       " 'board',\n",
       " 'city of panama city',\n",
       " 'secretary of housing and urban development',\n",
       " 'bluegreen vacations corporation',\n",
       " 'florida housing finance corporation',\n",
       " 'habitat for humanity of bay county florida inc',\n",
       " 'kiavi funding inc',\n",
       " 'grantee',\n",
       " 'rural housing service',\n",
       " 'third federal savings and loan association of cleveland',\n",
       " 'insurance',\n",
       " 'federal',\n",
       " 'navigator private capital llc',\n",
       " 'private capital',\n",
       " 'bay county',\n",
       " 'walker & dunlop llc',\n",
       " 'credit union',\n",
       " 'housing',\n",
       " 'wells fargo',\n",
       " 'us small business administration',\n",
       " 'lending']"
      ]
     },
     "execution_count": 49,
     "metadata": {},
     "output_type": "execute_result"
    }
   ],
   "source": [
    "# Read the excel file\n",
    "dfk = pd.read_csv('KeywordsRem.csv') \n",
    "\n",
    "# Get the list of values\n",
    "caps = dfk['Keywords'].tolist()\n",
    "caps\n",
    "\n",
    "lowers = [x.lower() for x in caps]\n",
    "lowers\n",
    "\n",
    "keywords = caps + lowers\n"
   ]
  },
  {
   "cell_type": "code",
   "execution_count": 46,
   "id": "6e12c286",
   "metadata": {},
   "outputs": [
    {
     "data": {
      "text/html": [
       "<style>.itables table td {\n",
       "    text-overflow: ellipsis;\n",
       "    overflow: hidden;\n",
       "}\n",
       "\n",
       ".itables table th {\n",
       "    text-overflow: ellipsis;\n",
       "    overflow: hidden;\n",
       "}\n",
       "\n",
       ".itables thead input {\n",
       "    width: 100%;\n",
       "    padding: 3px;\n",
       "    box-sizing: border-box;\n",
       "}\n",
       "\n",
       ".itables tfoot input {\n",
       "    width: 100%;\n",
       "    padding: 3px;\n",
       "    box-sizing: border-box;\n",
       "}\n",
       "</style>\n",
       "<div class=\"itables\">\n",
       "<table id=\"7165caf7-3ad2-4ed6-9e63-7cb391f0a6bf\" class=\"display nowrap\"style=\"table-layout:auto;width:auto;margin:auto;caption-side:bottom\"><thead>\n",
       "    <tr style=\"text-align: right;\">\n",
       "      <th></th>\n",
       "      <th>Status</th>\n",
       "      <th>Grantor</th>\n",
       "      <th>Grantee</th>\n",
       "      <th>Record Date</th>\n",
       "      <th>Doc Type</th>\n",
       "      <th>Book Type</th>\n",
       "      <th>Book</th>\n",
       "      <th>Page</th>\n",
       "      <th>Clerk File #</th>\n",
       "      <th>Legal</th>\n",
       "      <th>DocLinks</th>\n",
       "    </tr>\n",
       "  </thead><tbody><tr><td>Loading... (need <a href=https://mwouts.github.io/itables/troubleshooting.html>help</a>?)</td></tr></tbody></table>\n",
       "<link rel=\"stylesheet\" type=\"text/css\" href=\"https://cdn.datatables.net/1.13.1/css/jquery.dataTables.min.css\">\n",
       "<script type=\"module\">\n",
       "    // Import jquery and DataTable\n",
       "    import 'https://code.jquery.com/jquery-3.6.0.min.js';\n",
       "    import dt from 'https://cdn.datatables.net/1.12.1/js/jquery.dataTables.mjs';\n",
       "    dt($);\n",
       "\n",
       "    // Define the table data\n",
       "    const data = [];\n",
       "\n",
       "    // Define the dt_args\n",
       "    let dt_args = {\"paging\": true, \"order\": [], \"dom\": \"t\"};\n",
       "    dt_args[\"data\"] = data;\n",
       "\n",
       "    $(document).ready(function () {\n",
       "        \n",
       "        $('#7165caf7-3ad2-4ed6-9e63-7cb391f0a6bf').DataTable(dt_args);\n",
       "    });\n",
       "</script>\n",
       "</div>\n"
      ],
      "text/plain": [
       "<IPython.core.display.HTML object>"
      ]
     },
     "metadata": {},
     "output_type": "display_data"
    }
   ],
   "source": [
    "kf = pd.read_csv('KeywordsRem.csv') \n",
    "\n",
    "# # Get the list of values\n",
    "keys = kf['Keywords'].tolist()\n",
    "keys\n",
    "\n",
    "\n",
    "df = pd.read_csv('Bay_county_FL_5.csv')\n",
    "\n",
    "ar = ['BANK', 'VETERANS', 'Lending']\n",
    "\n",
    "df = df[df['Grantee'].str.contains('|'.join(keys))==False]\n",
    "# df\n",
    "\n",
    "from itables import show\n",
    "\n",
    "show(df , paging=True)\n",
    "\n"
   ]
  },
  {
   "cell_type": "code",
   "execution_count": null,
   "id": "95a75838",
   "metadata": {},
   "outputs": [],
   "source": []
  },
  {
   "cell_type": "code",
   "execution_count": null,
   "id": "b21e7e96",
   "metadata": {},
   "outputs": [],
   "source": []
  },
  {
   "cell_type": "code",
   "execution_count": null,
   "id": "da0419c4",
   "metadata": {},
   "outputs": [],
   "source": []
  }
 ],
 "metadata": {
  "kernelspec": {
   "display_name": "Python 3 (ipykernel)",
   "language": "python",
   "name": "python3"
  },
  "language_info": {
   "codemirror_mode": {
    "name": "ipython",
    "version": 3
   },
   "file_extension": ".py",
   "mimetype": "text/x-python",
   "name": "python",
   "nbconvert_exporter": "python",
   "pygments_lexer": "ipython3",
   "version": "3.10.12"
  }
 },
 "nbformat": 4,
 "nbformat_minor": 5
}
