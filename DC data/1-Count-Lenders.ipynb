{
 "cells": [
  {
   "cell_type": "code",
   "execution_count": 1,
   "id": "441f1911",
   "metadata": {},
   "outputs": [
    {
     "data": {
      "text/html": [
       "<div>\n",
       "<style scoped>\n",
       "    .dataframe tbody tr th:only-of-type {\n",
       "        vertical-align: middle;\n",
       "    }\n",
       "\n",
       "    .dataframe tbody tr th {\n",
       "        vertical-align: top;\n",
       "    }\n",
       "\n",
       "    .dataframe thead th {\n",
       "        text-align: right;\n",
       "    }\n",
       "</style>\n",
       "<table border=\"1\" class=\"dataframe\">\n",
       "  <thead>\n",
       "    <tr style=\"text-align: right;\">\n",
       "      <th></th>\n",
       "      <th>Status</th>\n",
       "      <th>Grantor</th>\n",
       "      <th>Grantee</th>\n",
       "      <th>Record Date</th>\n",
       "      <th>Doc Type</th>\n",
       "      <th>Book Type</th>\n",
       "      <th>Book</th>\n",
       "      <th>Page</th>\n",
       "      <th>Clerk File #</th>\n",
       "      <th>Legal</th>\n",
       "      <th>Keywords</th>\n",
       "      <th>Unnamed: 11</th>\n",
       "      <th>Unnamed: 12</th>\n",
       "      <th>Maybe</th>\n",
       "      <th>Unnamed: 14</th>\n",
       "    </tr>\n",
       "  </thead>\n",
       "  <tbody>\n",
       "  </tbody>\n",
       "</table>\n",
       "</div>"
      ],
      "text/plain": [
       "Empty DataFrame\n",
       "Columns: [Status, Grantor, Grantee, Record Date, Doc Type, Book Type, Book, Page, Clerk File #, Legal, Keywords, Unnamed: 11, Unnamed: 12, Maybe, Unnamed: 14]\n",
       "Index: []"
      ]
     },
     "execution_count": 1,
     "metadata": {},
     "output_type": "execute_result"
    }
   ],
   "source": [
    "import pandas as pd\n",
    "df = pd.read_csv('KeywordsRem.csv') \n",
    "\n",
    "# Get the list of values\n",
    "caps = df['Keywords'].tolist()\n",
    "\n",
    "lowers = [x.lower() for x in caps]\n",
    "\n",
    "all = caps + lowers\n",
    "all\n",
    "\n",
    "\n",
    "# p = df[df['Grantee'].str.contains('|'.join(caps))==False]\n",
    "# p\n",
    "\n",
    "p = df[df['Grantee'].str.contains('|'.join(all))==False]\n",
    "p\n",
    "\n"
   ]
  },
  {
   "cell_type": "code",
   "execution_count": 11,
   "id": "628d096d-9414-4b63-9778-4ee57d54a364",
   "metadata": {
    "tags": []
   },
   "outputs": [
    {
     "ename": "TypeError",
     "evalue": "sequence item 32: expected str instance, float found",
     "output_type": "error",
     "traceback": [
      "\u001b[0;31m---------------------------------------------------------------------------\u001b[0m",
      "\u001b[0;31mTypeError\u001b[0m                                 Traceback (most recent call last)",
      "Cell \u001b[0;32mIn[11], line 1\u001b[0m\n\u001b[0;32m----> 1\u001b[0m p \u001b[38;5;241m=\u001b[39m df[df[\u001b[38;5;124m'\u001b[39m\u001b[38;5;124mGrantee\u001b[39m\u001b[38;5;124m'\u001b[39m]\u001b[38;5;241m.\u001b[39mstr\u001b[38;5;241m.\u001b[39mcontains(\u001b[38;5;124m'\u001b[39m\u001b[38;5;124m|\u001b[39m\u001b[38;5;124m'\u001b[39m\u001b[38;5;241m.\u001b[39mjoin(caps))\u001b[38;5;241m==\u001b[39m\u001b[38;5;28;01mFalse\u001b[39;00m]\n\u001b[1;32m      2\u001b[0m p\n",
      "\u001b[0;31mTypeError\u001b[0m: sequence item 32: expected str instance, float found"
     ]
    }
   ],
   "source": []
  },
  {
   "cell_type": "code",
   "execution_count": null,
   "id": "c5d6c6ac",
   "metadata": {},
   "outputs": [],
   "source": [
    "import pandas as pd\n",
    "\n",
    "# pd.set_option('display.max_columns', 10) \n",
    "pd.set_option('display.max_rows', 100)\n",
    "# pd.set_option('display.max_colwidth', None)\n",
    "pd.set_option('display.max_columns', None)  \n",
    "\n",
    "\n",
    "df = pd.read_csv('bexar-full.csv'); \n",
    "\n",
    "# Concatenate the DataFrames\n",
    "# df = pd.concat([df1, df2,df3, df4,df5, df6,df7, df8,df9, df10,df11, df12,df13, df14,df15, df16, df10,df11, df12,df13, df14,df15, df16, df17,df18, df19,df20, df21,df22, df23, df24,df25, df26,df27, df28,df29, df30, df31,df32, df33,df34,df35, df36])\n",
    "\n",
    "# Print the DataFrame\n",
    "# print(df)\n",
    "\n",
    "\n",
    "\n",
    "\n",
    "r= df['Grantee'].value_counts()\n",
    "# print(r)\n",
    "# r\n",
    "\n",
    "# r.to_csv('output1.csv', index=False)\n",
    "r.to_csv('output2.csv')\n",
    "\n"
   ]
  }
 ],
 "metadata": {
  "kernelspec": {
   "display_name": "Python 3 (ipykernel)",
   "language": "python",
   "name": "python3"
  },
  "language_info": {
   "codemirror_mode": {
    "name": "ipython",
    "version": 3
   },
   "file_extension": ".py",
   "mimetype": "text/x-python",
   "name": "python",
   "nbconvert_exporter": "python",
   "pygments_lexer": "ipython3",
   "version": "3.11.4"
  }
 },
 "nbformat": 4,
 "nbformat_minor": 5
}
