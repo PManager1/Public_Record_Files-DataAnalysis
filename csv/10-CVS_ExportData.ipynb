{
 "cells": [
  {
   "cell_type": "code",
   "execution_count": 15,
   "id": "d87bce51",
   "metadata": {},
   "outputs": [],
   "source": [
    "import pandas as pd\n",
    "df = pd.DataFrame({'a': [1, 2], 'b': [3, 4]})\n",
    "df\n",
    "df.to_csv('output.csv', index=False)"
   ]
  },
  {
   "cell_type": "code",
   "execution_count": 16,
   "id": "8339a4a9",
   "metadata": {},
   "outputs": [],
   "source": [
    "# df.to_csv('output.csv', index=False)"
   ]
  },
  {
   "cell_type": "code",
   "execution_count": 17,
   "id": "06b621ab",
   "metadata": {},
   "outputs": [],
   "source": [
    "# Read the excel file\n",
    "dfk = pd.read_csv('KeywordsRem.csv') \n",
    "\n",
    "# Get the list of values\n",
    "caps = dfk['Keywords'].tolist()\n",
    "\n",
    "lowers = [x.lower() for x in caps]\n",
    "\n",
    "elimkeys = caps + lowers\n",
    "\n",
    "# df = pd.read_csv('Bay_county_FL_5.csv')\n",
    "df = pd.read_csv('Bay_county_FL.csv')\n",
    "\n",
    "df = df[df['Grantee'].str.contains('|'.join(elimkeys))==False]\n",
    "# df\n",
    "# from itables import show\n",
    "# show(df , paging=True)\n",
    "\n",
    "df\n",
    "\n",
    "df= df['Grantee'].value_counts()\n",
    "\n",
    "df.to_csv('output2.csv')\n"
   ]
  },
  {
   "cell_type": "code",
   "execution_count": null,
   "id": "3ee334ed",
   "metadata": {},
   "outputs": [],
   "source": []
  },
  {
   "cell_type": "code",
   "execution_count": null,
   "id": "c87bf44b",
   "metadata": {},
   "outputs": [],
   "source": []
  }
 ],
 "metadata": {
  "kernelspec": {
   "display_name": "Python 3 (ipykernel)",
   "language": "python",
   "name": "python3"
  },
  "language_info": {
   "codemirror_mode": {
    "name": "ipython",
    "version": 3
   },
   "file_extension": ".py",
   "mimetype": "text/x-python",
   "name": "python",
   "nbconvert_exporter": "python",
   "pygments_lexer": "ipython3",
   "version": "3.10.12"
  }
 },
 "nbformat": 4,
 "nbformat_minor": 5
}
