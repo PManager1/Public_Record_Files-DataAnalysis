{
 "cells": [
  {
   "cell_type": "code",
   "execution_count": 7,
   "id": "d87bce51",
   "metadata": {},
   "outputs": [],
   "source": [
    "# https://stackoverflow.com/questions/1801668/convert-a-list-with-strings-all-to-lowercase-or-uppercase\n",
    "\n",
    "import pandas as pd\n",
    "# import numpy as np"
   ]
  },
  {
   "cell_type": "code",
   "execution_count": 27,
   "id": "8e4db265",
   "metadata": {},
   "outputs": [
    {
     "name": "stdout",
     "output_type": "stream",
     "text": [
      "Grantee\n",
      "TYNDALL FEDERAL CREDIT UNION                                                   1198\n",
      "MORTGAGE ELECTRONIC REGISTRATION SYSTEMS INC\\nROCKET MORTGAGE LLC               818\n",
      "MORTGAGE ELECTRONIC REGISTRATION SYSTEMS INC\\nTRUSTMARK NATIONAL BANK           742\n",
      "WYNDHAM VACATION RESORTS INC                                                    636\n",
      "MORTGAGE ELECTRONIC REGISTRATION SYSTEMS INC\\nUNITED WHOLESALE MORTGAGE LLC     515\n",
      "                                                                               ... \n",
      "HOME LOAN CAPITAL\\nMORTGAGE ELECTRONIC REGISTRATION SYSTEMS INC                   1\n",
      "FMLH 2ND AVE LLC                                                                  1\n",
      "DICKERSON COURTNEY\\nDICKERSON SCOTT                                               1\n",
      "LANGFORD GARY P                                                                   1\n",
      "BLUE DANIEL L\\nBLUE KAYE L                                                        1\n",
      "Name: count, Length: 2574, dtype: int64\n"
     ]
    }
   ],
   "source": [
    "import pandas as pd\n",
    "\n",
    "pd.set_option('display.max_columns', 10)\n",
    "pd.set_option('display.max_rows', 100)\n",
    "\n",
    "# df = pd.read_csv('Bay_county_FL_c1.csv')\n",
    "\n",
    "# df['Grantee'].value_counts()\n",
    "# df.head(100)\n",
    "# print(df.head(100))\n",
    "\n",
    "df = pd.read_csv('Bay_county_FL_c2.csv')\n",
    "\n",
    "# Find all the distinct values in the 'A' column\n",
    "# df['A'].value_counts()\n",
    "\n",
    "# Find all the distinct values in the 'B' column\n",
    "# df['B'].value_counts()\n",
    "\n",
    "# cbCount = df['Grantee'].value_counts()['CENTENNIAL BANK']\n",
    "\n",
    "r= df['Grantee'].value_counts()\n",
    "print(r)\n",
    "\n"
   ]
  },
  {
   "cell_type": "code",
   "execution_count": null,
   "id": "1535c3c8",
   "metadata": {},
   "outputs": [],
   "source": []
  },
  {
   "cell_type": "code",
   "execution_count": null,
   "id": "7d744cf8",
   "metadata": {},
   "outputs": [],
   "source": []
  }
 ],
 "metadata": {
  "kernelspec": {
   "display_name": "Python 3 (ipykernel)",
   "language": "python",
   "name": "python3"
  },
  "language_info": {
   "codemirror_mode": {
    "name": "ipython",
    "version": 3
   },
   "file_extension": ".py",
   "mimetype": "text/x-python",
   "name": "python",
   "nbconvert_exporter": "python",
   "pygments_lexer": "ipython3",
   "version": "3.10.12"
  }
 },
 "nbformat": 4,
 "nbformat_minor": 5
}
