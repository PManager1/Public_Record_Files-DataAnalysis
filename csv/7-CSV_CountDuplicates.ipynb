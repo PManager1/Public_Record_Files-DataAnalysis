{
 "cells": [
  {
   "cell_type": "code",
   "execution_count": 6,
   "id": "d87bce51",
   "metadata": {},
   "outputs": [],
   "source": [
    "# https://stackoverflow.com/questions/1801668/convert-a-list-with-strings-all-to-lowercase-or-uppercase\n",
    "\n",
    "import pandas as pd\n",
    "import numpy as np"
   ]
  },
  {
   "cell_type": "code",
   "execution_count": 9,
   "id": "67dd73a8",
   "metadata": {},
   "outputs": [
    {
     "name": "stdout",
     "output_type": "stream",
     "text": [
      "  Status                                           Grantor  \\\n",
      "0      V                     BOOTH BARBARA A\\nBOOTH PAUL S   \n",
      "1      V                               PHL INVESTMENTS LLC   \n",
      "2      V                               PHL INVESTMENTS LLC   \n",
      "3      V  PEREZ LUIS ALBERTO CUBAS\\nPRADO DANIELA CARDENAS   \n",
      "4      V                  CLARK JAMES A JR\\nCLARK KELSIE M   \n",
      "5      V                                KRASINSKAS KRISTEN   \n",
      "\n",
      "                                             Grantee Record Date  Doc Type  \\\n",
      "0                      SECRETARY OF VETERANS AFFAIRS     5/22/23  MORTGAGE   \n",
      "1                                       CADENCE BANK     5/22/23  MORTGAGE   \n",
      "2                                            CADENCE     5/22/23  MORTGAGE   \n",
      "3  MORTGAGE ELECTRONIC REGISTRATION SYSTEMS INC\\n...     5/22/23  MORTGAGE   \n",
      "4                     REGIONS BANK\\nREGIONS MORTGAGE     5/22/23  MORTGAGE   \n",
      "5                                 FIGURE LENDING LLC     5/22/23  MORTGAGE   \n",
      "\n",
      "  Book Type  Book  Page  Clerk File #  \\\n",
      "0        OR  4691   153    2023031446   \n",
      "1        OR  4690   168    2023031454   \n",
      "2        OR  4691   168    2023031454   \n",
      "3        OR  4691   184    2023031458   \n",
      "4        OR  4691   204    2023031461   \n",
      "5        OR  4691   250    2023031479   \n",
      "\n",
      "                                         Legal  DocLinks  \n",
      "0                L 56 PARKWAY DEVELOPERS INC\\n       NaN  \n",
      "1                   UNIT 301 VISTA DEL MAR I\\n       NaN  \n",
      "2                   UNIT 301 VISTA DEL MAR I\\n       NaN  \n",
      "3                       L 56 CEDARS CROSSING\\n       NaN  \n",
      "4           L 119 BREAKFAST POINT EAST PH 1B\\n       NaN  \n",
      "5  L17 BLK 1 UNIT A JOHN G HENTZ JRS 1ST ADD\\n       NaN  \n",
      "Grantee\n",
      "CADENCE                                                                      1\n",
      "CADENCE BANK                                                                 1\n",
      "FIGURE LENDING LLC                                                           1\n",
      "MORTGAGE ELECTRONIC REGISTRATION SYSTEMS INC\\nTRUST MORTGAGE LENDING CORP    1\n",
      "REGIONS BANK\\nREGIONS MORTGAGE                                               1\n",
      "SECRETARY OF VETERANS AFFAIRS                                                1\n",
      "dtype: int64\n"
     ]
    }
   ],
   "source": [
    "df = pd.read_csv('Bay_county_FL_5.csv')\n",
    "\n",
    "df = df[df['Grantee'].str.contains('|'.join(elimkeys))==False]\n",
    "\n",
    "\n",
    "from itables import show\n",
    "\n",
    "# show(df , paging=True)\n",
    "\n",
    "\n",
    "df = pd.read_csv('Bay_county_FL_5.csv')\n",
    "\n",
    "dff= pd.DataFrame(df)\n",
    "print(df)\n",
    "\n",
    "\n",
    "\n",
    "df2 = df.pivot_table(index = ['Grantee'], aggfunc ='size')\n",
    "print(df2)"
   ]
  },
  {
   "cell_type": "code",
   "execution_count": null,
   "id": "4fcdec43",
   "metadata": {},
   "outputs": [],
   "source": []
  },
  {
   "cell_type": "code",
   "execution_count": null,
   "id": "589e869e",
   "metadata": {},
   "outputs": [],
   "source": []
  }
 ],
 "metadata": {
  "kernelspec": {
   "display_name": "Python 3 (ipykernel)",
   "language": "python",
   "name": "python3"
  },
  "language_info": {
   "codemirror_mode": {
    "name": "ipython",
    "version": 3
   },
   "file_extension": ".py",
   "mimetype": "text/x-python",
   "name": "python",
   "nbconvert_exporter": "python",
   "pygments_lexer": "ipython3",
   "version": "3.10.12"
  }
 },
 "nbformat": 4,
 "nbformat_minor": 5
}
