{
 "cells": [
  {
   "cell_type": "code",
   "execution_count": 11,
   "id": "d87bce51",
   "metadata": {},
   "outputs": [],
   "source": [
    "# https://stackoverflow.com/questions/1801668/convert-a-list-with-strings-all-to-lowercase-or-uppercase\n",
    "\n",
    "import pandas as pd\n",
    "import numpy as np\n",
    "\n"
   ]
  },
  {
   "cell_type": "code",
   "execution_count": 14,
   "id": "5a1c572b",
   "metadata": {},
   "outputs": [
    {
     "name": "stderr",
     "output_type": "stream",
     "text": [
      "'pages' argument isn't specified.Will extract only from page 1 by default.\n"
     ]
    },
    {
     "data": {
      "text/plain": [
       "[            Grantor       Grantee  Doc Type    Recorded    Doc Number  \\\n",
       " 0               NaN           NaN       NaN        Date           NaN   \n",
       " 1               NaN           NaN       NaN         NaN           NaN   \n",
       " 2      OLGUIN JESUS  SECRETARY OF  MORTGAGE   1/24/2023  2.023001e+10   \n",
       " 3    JULIAN, OLGUIN   HOUSING AND       NaN         NaN           NaN   \n",
       " 4        BELINDA A,         URBAN       NaN         NaN           NaN   \n",
       " 5               NaN  DEVELOPMENT,       NaN         NaN           NaN   \n",
       " 6   PEREZ HECTOR A,  SECRETARY OF  MORTGAGE   2/27/2023  2.023003e+10   \n",
       " 7    PEREZ MARIA J,   HOUSING AND       NaN         NaN           NaN   \n",
       " 8               NaN         URBAN       NaN         NaN           NaN   \n",
       " 9               NaN  DEVELOPMENT,       NaN         NaN           NaN   \n",
       " 10  DE HOYOS VIRGIL  SECRETARY OF  MORTGAGE   2/27/2023  2.023003e+10   \n",
       " 11     JR, DE HOYOS   HOUSING AND       NaN         NaN           NaN   \n",
       " 12      BERNADETTE,         URBAN       NaN         NaN           NaN   \n",
       " 13        RODRIGUEZ  DEVELOPMENT,       NaN         NaN           NaN   \n",
       " 14      AMANDA RAE,           NaN       NaN         NaN           NaN   \n",
       " 15    AGUILAR DULCE  SECRETARY OF  MORTGAGE   1/12/2023  2.023001e+10   \n",
       " 16         ARREOLA,   HOUSING AND       NaN         NaN           NaN   \n",
       " 17              NaN         URBAN       NaN         NaN           NaN   \n",
       " 18              NaN  DEVELOPMENT,       NaN         NaN           NaN   \n",
       " 19     BLAN ANTHONY  SECRETARY OF  MORTGAGE   1/13/2023  2.023001e+10   \n",
       " 20        DEMETRIC,   HOUSING AND       NaN         NaN           NaN   \n",
       " 21              NaN         URBAN       NaN         NaN           NaN   \n",
       " 22              NaN  DEVELOPMENT,       NaN         NaN           NaN   \n",
       " 23   MUNOZ ABIGAIL,  SECRETARY OF  MORTGAGE  12/27/2022  2.022029e+10   \n",
       " 24              NaN   HOUSING AND       NaN         NaN           NaN   \n",
       " 25              NaN         URBAN       NaN         NaN           NaN   \n",
       " 26              NaN  DEVELOPMENT,       NaN         NaN           NaN   \n",
       " 27              NaN           NaN       NaN         NaN           NaN   \n",
       " 28   WHITE VALARIE,  SECRETARY OF  MORTGAGE  12/28/2022  2.022029e+10   \n",
       " 29              NaN   HOUSING AND       NaN         NaN           NaN   \n",
       " 30              NaN         URBAN       NaN         NaN           NaN   \n",
       " 31              NaN  DEVELOPMENT,       NaN         NaN           NaN   \n",
       " 32              NaN           NaN       NaN         NaN           NaN   \n",
       " \n",
       "        Book/         Legal Description   Lot  Block      NCB County  \\\n",
       " 0    Volume/                       NaN   NaN    NaN      NaN  Block   \n",
       " 1       Page                       NaN   NaN    NaN      NaN    NaN   \n",
       " 2   --/--/--       Subdivision-  Name:  23.0    4.0  17264.0    NaN   \n",
       " 3        NaN   CARRIAGE HILLS  Lot: 23   NaN    NaN      NaN    NaN   \n",
       " 4        NaN     Block: 4 NCB: 17264,,   NaN    NaN      NaN    NaN   \n",
       " 5        NaN   Reference - 9555 / 117,   NaN    NaN      NaN    NaN   \n",
       " 6   --/--/--       Subdivision-  Name:  43.0   25.0  17293.0    NaN   \n",
       " 7        NaN    CARRIAGE HILLS Lot: 43   NaN    NaN      NaN    NaN   \n",
       " 8        NaN    Block: 25 NCB: 17293,,   NaN    NaN      NaN    NaN   \n",
       " 9        NaN    Reference - 9552 / 22,   NaN    NaN      NaN    NaN   \n",
       " 10  --/--/--       Subdivision-  Name:  52.0    1.0      NaN    NaN   \n",
       " 11       NaN         CHAMPIONS PARK #3   NaN    NaN      NaN    NaN   \n",
       " 12       NaN         Lot: 52 Block: 1,   NaN    NaN      NaN    NaN   \n",
       " 13       NaN   Reference - 9637 / 117,   NaN    NaN      NaN    NaN   \n",
       " 14       NaN                       NaN   NaN    NaN      NaN    NaN   \n",
       " 15  --/--/--       Subdivision-  Name:   2.0   13.0      NaN    NaN   \n",
       " 16       NaN     HERITAGE PARK #6 Lot:   NaN    NaN      NaN    NaN   \n",
       " 17       NaN  2 Block: 13, Reference -   NaN    NaN      NaN    NaN   \n",
       " 18       NaN               9509 / 118,   NaN    NaN      NaN    NaN   \n",
       " 19  --/--/--       Subdivision-  Name:   4.0    2.0      NaN    NaN   \n",
       " 20       NaN      BANDERA ROAD #1 Lot:   NaN    NaN      NaN    NaN   \n",
       " 21       NaN   4 Block: 2, Reference -   NaN    NaN      NaN    NaN   \n",
       " 22       NaN               9705 / 133,   NaN    NaN      NaN    NaN   \n",
       " 23  --/--/--       Subdivision-  Name:   3.0    5.0  12959.0    NaN   \n",
       " 24       NaN             WESTERN HILLS   NaN    NaN      NaN    NaN   \n",
       " 25       NaN        ADDITION #2 Lot: 3   NaN    NaN      NaN    NaN   \n",
       " 26       NaN     Block: 5 NCB: 12959,,   NaN    NaN      NaN    NaN   \n",
       " 27       NaN   Reference - 4600 / 163,   NaN    NaN      NaN    NaN   \n",
       " 28  --/--/--       Subdivision-  Name:   2.0  140.0      NaN    NaN   \n",
       " 29       NaN         OVERLOOK AT MEDIO   NaN    NaN      NaN    NaN   \n",
       " 30       NaN    CREEK #7 Lot: 2 Block:   NaN    NaN      NaN    NaN   \n",
       " 31       NaN  140, Reference - 20001 /   NaN    NaN      NaN    NaN   \n",
       " 32       NaN                     2423,   NaN    NaN      NaN    NaN   \n",
       " \n",
       "     Property Address  \n",
       " 0                NaN  \n",
       " 1                NaN  \n",
       " 2      7311 CARRIAGE  \n",
       " 3           RUN, SAN  \n",
       " 4    ANTONIO, TEXAS,  \n",
       " 5              78249  \n",
       " 6      7319 CARRIAGE  \n",
       " 7          BEND, SAN  \n",
       " 8    ANTONIO, TEXAS,  \n",
       " 9              78249  \n",
       " 10             11119  \n",
       " 11    UNBRIDLED, SAN  \n",
       " 12   ANTONIO, TEXAS,  \n",
       " 13             78245  \n",
       " 14               NaN  \n",
       " 15       3006 BEACON  \n",
       " 16          FLD, SAN  \n",
       " 17   ANTONIO, TEXAS,  \n",
       " 18             78245  \n",
       " 19         10529 FAR  \n",
       " 20     REACHES LANE,  \n",
       " 21   HELOTES, TEXAS,  \n",
       " 22             78023  \n",
       " 23  218 FRIDELL ST ,  \n",
       " 24      SAN ANTONIO,  \n",
       " 25      TEXAS, 78237  \n",
       " 26               NaN  \n",
       " 27               NaN  \n",
       " 28       10140 PEARL  \n",
       " 29        CREEK, SAN  \n",
       " 30   ANTONIO, TEXAS,  \n",
       " 31             78245  \n",
       " 32               NaN  ]"
      ]
     },
     "execution_count": 14,
     "metadata": {},
     "output_type": "execute_result"
    }
   ],
   "source": [
    "# https://tabula-py.readthedocs.io/en/latest/getting_started.html\n",
    "\n",
    "from tabula import read_pdf\n",
    "df = read_pdf('Bexer_Test.pdf')\n",
    "\n",
    "# df = pd.read_pdf('Bexer_Test.pdf')\n",
    "\n",
    "df\n"
   ]
  },
  {
   "cell_type": "code",
   "execution_count": 13,
   "id": "67dd73a8",
   "metadata": {},
   "outputs": [
    {
     "ename": "FileNotFoundError",
     "evalue": "[Errno 2] No such file or directory: 'test.pdf'",
     "output_type": "error",
     "traceback": [
      "\u001b[0;31m---------------------------------------------------------------------------\u001b[0m",
      "\u001b[0;31mFileNotFoundError\u001b[0m                         Traceback (most recent call last)",
      "Cell \u001b[0;32mIn[13], line 4\u001b[0m\n\u001b[1;32m      1\u001b[0m \u001b[38;5;28;01mimport\u001b[39;00m \u001b[38;5;21;01mtabula\u001b[39;00m\n\u001b[1;32m      3\u001b[0m \u001b[38;5;66;03m# Read pdf into a list of DataFrame\u001b[39;00m\n\u001b[0;32m----> 4\u001b[0m dfs \u001b[38;5;241m=\u001b[39m \u001b[43mtabula\u001b[49m\u001b[38;5;241;43m.\u001b[39;49m\u001b[43mread_pdf\u001b[49m\u001b[43m(\u001b[49m\u001b[38;5;124;43m\"\u001b[39;49m\u001b[38;5;124;43mtest.pdf\u001b[39;49m\u001b[38;5;124;43m\"\u001b[39;49m\u001b[43m,\u001b[49m\u001b[43m \u001b[49m\u001b[43mpages\u001b[49m\u001b[38;5;241;43m=\u001b[39;49m\u001b[38;5;124;43m'\u001b[39;49m\u001b[38;5;124;43mall\u001b[39;49m\u001b[38;5;124;43m'\u001b[39;49m\u001b[43m)\u001b[49m\n\u001b[1;32m      6\u001b[0m \u001b[38;5;66;03m# Read remote pdf into a list of DataFrame\u001b[39;00m\n\u001b[1;32m      7\u001b[0m dfs2 \u001b[38;5;241m=\u001b[39m tabula\u001b[38;5;241m.\u001b[39mread_pdf(\u001b[38;5;124m\"\u001b[39m\u001b[38;5;124mhttps://github.com/tabulapdf/tabula-java/raw/master/src/test/resources/technology/tabula/arabic.pdf\u001b[39m\u001b[38;5;124m\"\u001b[39m)\n",
      "File \u001b[0;32m~/anaconda3/lib/python3.10/site-packages/tabula/io.py:419\u001b[0m, in \u001b[0;36mread_pdf\u001b[0;34m(input_path, output_format, encoding, java_options, pandas_options, multiple_tables, user_agent, use_raw_url, pages, guess, area, relative_area, lattice, stream, password, silent, columns, relative_columns, format, batch, output_path, options)\u001b[0m\n\u001b[1;32m    416\u001b[0m path, temporary \u001b[38;5;241m=\u001b[39m localize_file(input_path, user_agent, use_raw_url\u001b[38;5;241m=\u001b[39muse_raw_url)\n\u001b[1;32m    418\u001b[0m \u001b[38;5;28;01mif\u001b[39;00m \u001b[38;5;129;01mnot\u001b[39;00m os\u001b[38;5;241m.\u001b[39mpath\u001b[38;5;241m.\u001b[39mexists(path):\n\u001b[0;32m--> 419\u001b[0m     \u001b[38;5;28;01mraise\u001b[39;00m \u001b[38;5;167;01mFileNotFoundError\u001b[39;00m(errno\u001b[38;5;241m.\u001b[39mENOENT, os\u001b[38;5;241m.\u001b[39mstrerror(errno\u001b[38;5;241m.\u001b[39mENOENT), path)\n\u001b[1;32m    421\u001b[0m \u001b[38;5;28;01mif\u001b[39;00m os\u001b[38;5;241m.\u001b[39mpath\u001b[38;5;241m.\u001b[39mgetsize(path) \u001b[38;5;241m==\u001b[39m \u001b[38;5;241m0\u001b[39m:\n\u001b[1;32m    422\u001b[0m     \u001b[38;5;28;01mraise\u001b[39;00m \u001b[38;5;167;01mValueError\u001b[39;00m(\u001b[38;5;124mf\u001b[39m\u001b[38;5;124m\"\u001b[39m\u001b[38;5;132;01m{\u001b[39;00mpath\u001b[38;5;132;01m}\u001b[39;00m\u001b[38;5;124m is empty. Check the file, or download it manually.\u001b[39m\u001b[38;5;124m\"\u001b[39m)\n",
      "\u001b[0;31mFileNotFoundError\u001b[0m: [Errno 2] No such file or directory: 'test.pdf'"
     ]
    }
   ],
   "source": [
    "import tabula\n",
    "\n",
    "# Read pdf into a list of DataFrame\n",
    "dfs = tabula.read_pdf(\"test.pdf\", pages='all')\n",
    "\n",
    "# Read remote pdf into a list of DataFrame\n",
    "dfs2 = tabula.read_pdf(\"https://github.com/tabulapdf/tabula-java/raw/master/src/test/resources/technology/tabula/arabic.pdf\")\n",
    "\n",
    "# convert PDF into CSV\n",
    "tabula.convert_into(\"test.pdf\", \"output2.csv\", output_format=\"csv\", pages='all')\n",
    "\n",
    "# convert all PDFs in a directory\n",
    "tabula.convert_into_by_batch(\"input_directory\", output_format='csv', pages='all')"
   ]
  },
  {
   "cell_type": "code",
   "execution_count": null,
   "id": "4fcdec43",
   "metadata": {},
   "outputs": [],
   "source": []
  },
  {
   "cell_type": "code",
   "execution_count": null,
   "id": "589e869e",
   "metadata": {},
   "outputs": [],
   "source": []
  }
 ],
 "metadata": {
  "kernelspec": {
   "display_name": "Python 3 (ipykernel)",
   "language": "python",
   "name": "python3"
  },
  "language_info": {
   "codemirror_mode": {
    "name": "ipython",
    "version": 3
   },
   "file_extension": ".py",
   "mimetype": "text/x-python",
   "name": "python",
   "nbconvert_exporter": "python",
   "pygments_lexer": "ipython3",
   "version": "3.10.12"
  }
 },
 "nbformat": 4,
 "nbformat_minor": 5
}
