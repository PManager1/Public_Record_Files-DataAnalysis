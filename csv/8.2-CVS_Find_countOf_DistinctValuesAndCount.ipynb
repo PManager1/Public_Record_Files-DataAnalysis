{
 "cells": [
  {
   "cell_type": "code",
   "execution_count": 29,
   "id": "d87bce51",
   "metadata": {},
   "outputs": [],
   "source": [
    "# https://stackoverflow.com/questions/1801668/convert-a-list-with-strings-all-to-lowercase-or-uppercase\n",
    "\n",
    "import pandas as pd\n",
    "# import numpy as np"
   ]
  },
  {
   "cell_type": "code",
   "execution_count": 47,
   "id": "8e4db265",
   "metadata": {},
   "outputs": [
    {
     "data": {
      "text/plain": [
       "Grantee\n",
       "TYNDALL FEDERAL CREDIT UNION                                                   473\n",
       "MORTGAGE ELECTRONIC REGISTRATION SYSTEMS INC\\nROCKET MORTGAGE LLC              338\n",
       "WYNDHAM VACATION RESORTS INC                                                   289\n",
       "MORTGAGE ELECTRONIC REGISTRATION SYSTEMS INC\\nUNITED WHOLESALE MORTGAGE LLC    218\n",
       "PANHANDLE CREDIT UNION                                                         202\n",
       "                                                                              ... \n",
       "REGIONS BANK DBA REGIONS MORTGAGE                                                1\n",
       "DOOLEY DANA M\\nDOOLEY PHILIP T                                                   1\n",
       "YOU WONT BE BLEAU IN 309 LLC                                                     1\n",
       "CELTIC BANK CORPORATION                                                          1\n",
       "CAKE MORTGAGE CORP\\nMORTGAGE ELECTRONIC REGISTRATION SYSTEMS INC                 1\n",
       "Name: count, Length: 1378, dtype: int64"
      ]
     },
     "execution_count": 47,
     "metadata": {},
     "output_type": "execute_result"
    }
   ],
   "source": [
    "import pandas as pd\n",
    "\n",
    "# pd.set_option('display.max_columns', 10) \n",
    "pd.set_option('display.max_rows', 100)\n",
    "# pd.set_option('display.max_colwidth', None)\n",
    "pd.set_option('display.max_columns', None)  \n",
    "\n",
    "\n",
    "\n",
    "df = pd.read_csv('Bay_county_FL_c2.csv')\n",
    "\n",
    "r= df['Grantee'].value_counts()\n",
    "# print(r)\n",
    "r\n",
    "\n"
   ]
  },
  {
   "cell_type": "code",
   "execution_count": 52,
   "id": "1535c3c8",
   "metadata": {},
   "outputs": [
    {
     "data": {
      "text/plain": [
       "Grantee\n",
       "TYNDALL FEDERAL CREDIT UNION                                                   473\n",
       "MORTGAGE ELECTRONIC REGISTRATION SYSTEMS INC\\nROCKET MORTGAGE LLC              338\n",
       "WYNDHAM VACATION RESORTS INC                                                   289\n",
       "MORTGAGE ELECTRONIC REGISTRATION SYSTEMS INC\\nUNITED WHOLESALE MORTGAGE LLC    218\n",
       "PANHANDLE CREDIT UNION                                                         202\n",
       "                                                                              ... \n",
       "REGIONS BANK DBA REGIONS MORTGAGE                                                1\n",
       "DOOLEY DANA M\\nDOOLEY PHILIP T                                                   1\n",
       "YOU WONT BE BLEAU IN 309 LLC                                                     1\n",
       "CELTIC BANK CORPORATION                                                          1\n",
       "CAKE MORTGAGE CORP\\nMORTGAGE ELECTRONIC REGISTRATION SYSTEMS INC                 1\n",
       "Name: count, Length: 1378, dtype: int64"
      ]
     },
     "execution_count": 52,
     "metadata": {},
     "output_type": "execute_result"
    }
   ],
   "source": [
    "import pandas as pd\n",
    "\n",
    "\n",
    "# with pd.option_context('display.max_colwidth', None,\n",
    "#                        'display.max_columns', None,\n",
    "#                        'display.max_rows', None):\n",
    "#     display(df)\n",
    "    \n",
    "    \n",
    "# df['Grantee'].value_counts()\n",
    "# df.head(100)\n",
    "# print(df.head(100))\n",
    "\n",
    "df = pd.read_csv('Bay_county_FL_c2.csv')\n",
    "\n",
    "r= df['Grantee'].value_counts()\n",
    "# print(r)\n",
    "r\n",
    "\n"
   ]
  },
  {
   "cell_type": "code",
   "execution_count": null,
   "id": "a92cfa03",
   "metadata": {},
   "outputs": [],
   "source": []
  },
  {
   "cell_type": "code",
   "execution_count": null,
   "id": "3ecb09c2",
   "metadata": {},
   "outputs": [],
   "source": []
  },
  {
   "cell_type": "code",
   "execution_count": null,
   "id": "c32012b2",
   "metadata": {},
   "outputs": [],
   "source": []
  }
 ],
 "metadata": {
  "kernelspec": {
   "display_name": "Python 3 (ipykernel)",
   "language": "python",
   "name": "python3"
  },
  "language_info": {
   "codemirror_mode": {
    "name": "ipython",
    "version": 3
   },
   "file_extension": ".py",
   "mimetype": "text/x-python",
   "name": "python",
   "nbconvert_exporter": "python",
   "pygments_lexer": "ipython3",
   "version": "3.10.12"
  }
 },
 "nbformat": 4,
 "nbformat_minor": 5
}
