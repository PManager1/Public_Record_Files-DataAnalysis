{
 "cells": [
  {
   "cell_type": "code",
   "execution_count": 19,
   "id": "d87bce51",
   "metadata": {},
   "outputs": [],
   "source": [
    "# https://stackoverflow.com/questions/1801668/convert-a-list-with-strings-all-to-lowercase-or-uppercase\n",
    "\n",
    "import pandas as pd\n",
    "import numpy as np\n",
    "\n"
   ]
  },
  {
   "cell_type": "code",
   "execution_count": 20,
   "id": "5a1c572b",
   "metadata": {},
   "outputs": [
    {
     "name": "stderr",
     "output_type": "stream",
     "text": [
      "'pages' argument isn't specified.Will extract only from page 1 by default.\n"
     ]
    },
    {
     "data": {
      "text/plain": [
       "[   Status  Type Price | Date           Address Beds Baths Sqft  \\\n",
       " 0     Off   NaN          NaN               NaN  NaN   NaN  NaN   \n",
       " 1     NaN  LAND            –      30 Zulaya Dr  NaN   NaN  NaN   \n",
       " 2  Market   NaN       4/3/19  Irving, TX 75061    –     –    –   \n",
       " \n",
       "   Lot Size Year Built $/sqft Unnamed: 0  \n",
       " 0                        NaN        NaN  \n",
       " 1                        NaN        NaN  \n",
       " 2                 8,566 sqft        – –  ,\n",
       "       Off Unnamed: 0 Unnamed: 1        Unnamed: 2 Unnamed: 3 Unnamed: 4  \\\n",
       " 0     NaN       LAND          –      29 Zulaya Dr        NaN        NaN   \n",
       " 1  Market        NaN     4/3/19  Irving, TX 75061          –          –   \n",
       " 2     Off        NaN        NaN               NaN        NaN        NaN   \n",
       " 3     NaN       LAND          –      28 Zulaya Dr        NaN        NaN   \n",
       " 4  Market        NaN     4/3/19  Irving, TX 75061          –          –   \n",
       " \n",
       "   Unnamed: 5  Unnamed: 6 Unnamed: 7 Unnamed: 8  \n",
       " 0        NaN         NaN        NaN        NaN  \n",
       " 1          –  7,456 sqft          –          –  \n",
       " 2        NaN         NaN        NaN        NaN  \n",
       " 3        NaN         NaN        NaN        NaN  \n",
       " 4          –  7,451 sqft          –          –  ]"
      ]
     },
     "execution_count": 20,
     "metadata": {},
     "output_type": "execute_result"
    }
   ],
   "source": [
    "# https://tabula-py.readthedocs.io/en/latest/getting_started.html\n",
    "\n",
    "from tabula import read_pdf\n",
    "df = read_pdf('IrvingTX_lots.pdf')\n",
    "\n",
    "# df = pd.read_pdf('Bexer_Test.pdf')\n",
    "\n",
    "df\n"
   ]
  },
  {
   "cell_type": "code",
   "execution_count": 21,
   "id": "ca337ec5",
   "metadata": {},
   "outputs": [],
   "source": [
    "# https://tabula-py.readthedocs.io/en/latest/getting_started.html\n",
    "#  It takes a while for the csv file to load. \n",
    "\n",
    "from tabula import read_pdf\n",
    "df = read_pdf('IrvingTX_lots.pdf' , pages='all')\n",
    "\n",
    "# df = pd.read_pdf('Bexer_Test.pdf')\n",
    "\n",
    "# df\n",
    "\n",
    "tabula.convert_into(\"IrvingTX_lots.pdf\", \"IrvingTX_lots.csv\", output_format=\"csv\", pages='all')\n",
    "\n",
    "# convert all PDFs in a directory\n",
    "# tabula.convert_into_by_batch(\"input_directory\", output_format='csv', pages='all')\n"
   ]
  },
  {
   "cell_type": "code",
   "execution_count": 18,
   "id": "67dd73a8",
   "metadata": {},
   "outputs": [
    {
     "name": "stderr",
     "output_type": "stream",
     "text": [
      "'pages' argument isn't specified.Will extract only from page 1 by default.\n"
     ]
    },
    {
     "ename": "FileNotFoundError",
     "evalue": "[Errno 2] No such file or directory: 'test.pdf'",
     "output_type": "error",
     "traceback": [
      "\u001b[0;31m---------------------------------------------------------------------------\u001b[0m",
      "\u001b[0;31mFileNotFoundError\u001b[0m                         Traceback (most recent call last)",
      "Cell \u001b[0;32mIn[18], line 10\u001b[0m\n\u001b[1;32m      7\u001b[0m dfs2 \u001b[38;5;241m=\u001b[39m tabula\u001b[38;5;241m.\u001b[39mread_pdf(\u001b[38;5;124m\"\u001b[39m\u001b[38;5;124mhttps://github.com/tabulapdf/tabula-java/raw/master/src/test/resources/technology/tabula/arabic.pdf\u001b[39m\u001b[38;5;124m\"\u001b[39m)\n\u001b[1;32m      9\u001b[0m \u001b[38;5;66;03m# convert PDF into CSV\u001b[39;00m\n\u001b[0;32m---> 10\u001b[0m tabula\u001b[38;5;241m.\u001b[39mconvert_into(\u001b[38;5;124m\"\u001b[39m\u001b[38;5;124mtest.pdf\u001b[39m\u001b[38;5;124m\"\u001b[39m, \u001b[38;5;124m\"\u001b[39m\u001b[38;5;124moutput2.csv\u001b[39m\u001b[38;5;124m\"\u001b[39m, output_format\u001b[38;5;241m=\u001b[39m\u001b[38;5;124m\"\u001b[39m\u001b[38;5;124mcsv\u001b[39m\u001b[38;5;124m\"\u001b[39m, pages\u001b[38;5;241m=\u001b[39m\u001b[38;5;124m'\u001b[39m\u001b[38;5;124mall\u001b[39m\u001b[38;5;124m'\u001b[39m)\n",
      "File \u001b[0;32m~/anaconda3/lib/python3.11/site-packages/tabula/io.py:836\u001b[0m, in \u001b[0;36mconvert_into\u001b[0;34m(input_path, output_path, output_format, java_options, pages, guess, area, relative_area, lattice, stream, password, silent, columns, relative_columns, format, batch, options)\u001b[0m\n\u001b[1;32m    833\u001b[0m path, temporary \u001b[38;5;241m=\u001b[39m localize_file(input_path)\n\u001b[1;32m    835\u001b[0m \u001b[38;5;28;01mif\u001b[39;00m \u001b[38;5;129;01mnot\u001b[39;00m os\u001b[38;5;241m.\u001b[39mpath\u001b[38;5;241m.\u001b[39mexists(path):\n\u001b[0;32m--> 836\u001b[0m     \u001b[38;5;28;01mraise\u001b[39;00m \u001b[38;5;167;01mFileNotFoundError\u001b[39;00m(errno\u001b[38;5;241m.\u001b[39mENOENT, os\u001b[38;5;241m.\u001b[39mstrerror(errno\u001b[38;5;241m.\u001b[39mENOENT), path)\n\u001b[1;32m    838\u001b[0m \u001b[38;5;28;01mif\u001b[39;00m os\u001b[38;5;241m.\u001b[39mpath\u001b[38;5;241m.\u001b[39mgetsize(path) \u001b[38;5;241m==\u001b[39m \u001b[38;5;241m0\u001b[39m:\n\u001b[1;32m    839\u001b[0m     \u001b[38;5;28;01mraise\u001b[39;00m \u001b[38;5;167;01mValueError\u001b[39;00m(\n\u001b[1;32m    840\u001b[0m         \u001b[38;5;124m\"\u001b[39m\u001b[38;5;132;01m{}\u001b[39;00m\u001b[38;5;124m is empty. Check the file, or download it manually.\u001b[39m\u001b[38;5;124m\"\u001b[39m\u001b[38;5;241m.\u001b[39mformat(path)\n\u001b[1;32m    841\u001b[0m     )\n",
      "\u001b[0;31mFileNotFoundError\u001b[0m: [Errno 2] No such file or directory: 'test.pdf'"
     ]
    }
   ],
   "source": [
    "import tabula\n",
    "\n",
    "# Read pdf into a list of DataFrame\n",
    "# dfs = tabula.read_pdf(\"test.pdf\", pages='all')\n",
    "\n",
    "# Read remote pdf into a list of DataFrame\n",
    "dfs2 = tabula.read_pdf(\"https://github.com/tabulapdf/tabula-java/raw/master/src/test/resources/technology/tabula/arabic.pdf\")\n",
    "\n",
    "# convert PDF into CSV\n",
    "tabula.convert_into(\"test.pdf\", \"output2.csv\", output_format=\"csv\", pages='all')\n",
    "\n",
    "# convert all PDFs in a directory\n",
    "# tabula.convert_into_by_batch(\"input_directory\", output_format='csv', pages='all')"
   ]
  },
  {
   "cell_type": "code",
   "execution_count": null,
   "id": "4fcdec43",
   "metadata": {},
   "outputs": [],
   "source": []
  },
  {
   "cell_type": "code",
   "execution_count": null,
   "id": "589e869e",
   "metadata": {},
   "outputs": [],
   "source": []
  },
  {
   "cell_type": "code",
   "execution_count": null,
   "id": "be0a9794",
   "metadata": {},
   "outputs": [],
   "source": []
  },
  {
   "cell_type": "code",
   "execution_count": null,
   "id": "fb50b2b3",
   "metadata": {},
   "outputs": [],
   "source": []
  }
 ],
 "metadata": {
  "kernelspec": {
   "display_name": "Python 3 (ipykernel)",
   "language": "python",
   "name": "python3"
  },
  "language_info": {
   "codemirror_mode": {
    "name": "ipython",
    "version": 3
   },
   "file_extension": ".py",
   "mimetype": "text/x-python",
   "name": "python",
   "nbconvert_exporter": "python",
   "pygments_lexer": "ipython3",
   "version": "3.11.4"
  }
 },
 "nbformat": 4,
 "nbformat_minor": 5
}
