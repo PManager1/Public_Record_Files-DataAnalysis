{
 "cells": [
  {
   "cell_type": "code",
   "execution_count": 10,
   "id": "d87bce51",
   "metadata": {},
   "outputs": [
    {
     "data": {
      "text/html": [
       "<div>\n",
       "<style scoped>\n",
       "    .dataframe tbody tr th:only-of-type {\n",
       "        vertical-align: middle;\n",
       "    }\n",
       "\n",
       "    .dataframe tbody tr th {\n",
       "        vertical-align: top;\n",
       "    }\n",
       "\n",
       "    .dataframe thead th {\n",
       "        text-align: right;\n",
       "    }\n",
       "</style>\n",
       "<table border=\"1\" class=\"dataframe\">\n",
       "  <thead>\n",
       "    <tr style=\"text-align: right;\">\n",
       "      <th></th>\n",
       "      <th>Status</th>\n",
       "      <th>Type</th>\n",
       "      <th>Price | Date</th>\n",
       "      <th>Address</th>\n",
       "      <th>Beds</th>\n",
       "      <th>Baths</th>\n",
       "      <th>Sqft</th>\n",
       "      <th>Lot Size Year Built $/sqft</th>\n",
       "    </tr>\n",
       "  </thead>\n",
       "  <tbody>\n",
       "    <tr>\n",
       "      <th>0</th>\n",
       "      <td>NaN</td>\n",
       "      <td>LAND</td>\n",
       "      <td>4/3/19</td>\n",
       "      <td>30 Zulaya Dr Irving, TX 75061</td>\n",
       "      <td>NaN</td>\n",
       "      <td>NaN</td>\n",
       "      <td>NaN</td>\n",
       "      <td>8,566 sqft</td>\n",
       "    </tr>\n",
       "    <tr>\n",
       "      <th>1</th>\n",
       "      <td>NaN</td>\n",
       "      <td>LAND</td>\n",
       "      <td>4/3/19</td>\n",
       "      <td>29 Zulaya Dr Irving, TX 75061</td>\n",
       "      <td>NaN</td>\n",
       "      <td>NaN</td>\n",
       "      <td>NaN</td>\n",
       "      <td>7,456 sqft</td>\n",
       "    </tr>\n",
       "    <tr>\n",
       "      <th>2</th>\n",
       "      <td>NaN</td>\n",
       "      <td>LAND</td>\n",
       "      <td>4/3/19</td>\n",
       "      <td>28 Zulaya Dr Irving, TX 75061</td>\n",
       "      <td>NaN</td>\n",
       "      <td>NaN</td>\n",
       "      <td>NaN</td>\n",
       "      <td>7,451 sqft</td>\n",
       "    </tr>\n",
       "    <tr>\n",
       "      <th>3</th>\n",
       "      <td>NaN</td>\n",
       "      <td>LAND</td>\n",
       "      <td>2/3/21</td>\n",
       "      <td>25 Zulaya Dr Irving, TX 75061</td>\n",
       "      <td>NaN</td>\n",
       "      <td>NaN</td>\n",
       "      <td>NaN</td>\n",
       "      <td>7,474 sqft</td>\n",
       "    </tr>\n",
       "    <tr>\n",
       "      <th>4</th>\n",
       "      <td>NaN</td>\n",
       "      <td>LAND</td>\n",
       "      <td>1/5/21</td>\n",
       "      <td>23 Zulaya Dr Irving, TX 75061</td>\n",
       "      <td>NaN</td>\n",
       "      <td>NaN</td>\n",
       "      <td>NaN</td>\n",
       "      <td>6,284 sqft</td>\n",
       "    </tr>\n",
       "    <tr>\n",
       "      <th>5</th>\n",
       "      <td>NaN</td>\n",
       "      <td>LAND</td>\n",
       "      <td>3/5/14</td>\n",
       "      <td>8 Yogi Way Irving, TX 75038</td>\n",
       "      <td>NaN</td>\n",
       "      <td>NaN</td>\n",
       "      <td>NaN</td>\n",
       "      <td>5,981 sqft</td>\n",
       "    </tr>\n",
       "  </tbody>\n",
       "</table>\n",
       "</div>"
      ],
      "text/plain": [
       "   Status  Type Price | Date                        Address  Beds  Baths  \\\n",
       "0     NaN  LAND       4/3/19  30 Zulaya Dr Irving, TX 75061   NaN    NaN   \n",
       "1     NaN  LAND       4/3/19  29 Zulaya Dr Irving, TX 75061   NaN    NaN   \n",
       "2     NaN  LAND       4/3/19  28 Zulaya Dr Irving, TX 75061   NaN    NaN   \n",
       "3     NaN  LAND       2/3/21  25 Zulaya Dr Irving, TX 75061   NaN    NaN   \n",
       "4     NaN  LAND       1/5/21  23 Zulaya Dr Irving, TX 75061   NaN    NaN   \n",
       "5     NaN  LAND       3/5/14    8 Yogi Way Irving, TX 75038   NaN    NaN   \n",
       "\n",
       "   Sqft Lot Size Year Built $/sqft  \n",
       "0   NaN                 8,566 sqft  \n",
       "1   NaN                 7,456 sqft  \n",
       "2   NaN                 7,451 sqft  \n",
       "3   NaN                 7,474 sqft  \n",
       "4   NaN                 6,284 sqft  \n",
       "5   NaN                 5,981 sqft  "
      ]
     },
     "execution_count": 10,
     "metadata": {},
     "output_type": "execute_result"
    }
   ],
   "source": [
    "\n",
    "import pandas as pd\n",
    "import numpy as np\n",
    "\n",
    "df = pd.read_csv('IrvingTX_lots5.csv')\n",
    "\n",
    "df\n",
    "\n",
    "\n"
   ]
  },
  {
   "cell_type": "code",
   "execution_count": 12,
   "id": "589e869e",
   "metadata": {},
   "outputs": [
    {
     "data": {
      "text/plain": [
       "{'Address': array(['30 Zulaya Dr Irving, TX 75061', '29 Zulaya Dr Irving, TX 75061',\n",
       "        '28 Zulaya Dr Irving, TX 75061', '25 Zulaya Dr Irving, TX 75061',\n",
       "        '23 Zulaya Dr Irving, TX 75061', '8 Yogi Way Irving, TX 75038'],\n",
       "       dtype=object)}"
      ]
     },
     "execution_count": 12,
     "metadata": {},
     "output_type": "execute_result"
    }
   ],
   "source": [
    "import pandas as pd\n",
    "import requests\n",
    "\n",
    "# Read the excel file\n",
    "df = pd.read_csv('IrvingTX_lots5.csv')\n",
    "\n",
    "\n",
    "# Make an ajax call\n",
    "url = 'https://example.com/api/v1/users'\n",
    "data = {'Address': df['Address'].values}\n",
    "\n",
    "data\n",
    "\n",
    "\"\"\"\n",
    "# Send the ajax call\n",
    "response = requests.post(url, data=data)\n",
    "\n",
    "# Check the response status code\n",
    "if response.status_code == 200:\n",
    "    # The ajax call was successful\n",
    "    print('The ajax call was successful')\n",
    "else:\n",
    "    # The ajax call failed\n",
    "    print('The ajax call failed')\n",
    "\"\"\""
   ]
  },
  {
   "cell_type": "code",
   "execution_count": 29,
   "id": "be0a9794",
   "metadata": {},
   "outputs": [
    {
     "name": "stdout",
     "output_type": "stream",
     "text": [
      "Data1 = {'Address': array(['30 Zulaya Dr Irving, TX 75061', '29 Zulaya Dr Irving, TX 75061',\n",
      "       '28 Zulaya Dr Irving, TX 75061', '25 Zulaya Dr Irving, TX 75061',\n",
      "       '23 Zulaya Dr Irving, TX 75061', '8 Yogi Way Irving, TX 75038'],\n",
      "      dtype=object)}\n"
     ]
    }
   ],
   "source": [
    "import pandas as pd\n",
    "import requests\n",
    "\n",
    "# Read the excel file\n",
    "df = pd.read_csv('IrvingTX_lots5.csv')\n",
    "\n",
    "\n",
    "# Make an ajax call\n",
    "url = 'https://example.com/api/v1/users'\n",
    "data = {'Address': df['Address'].values}\n",
    "# data\n",
    "\n",
    "print(\"Data1 =\", data)\n",
    "\n",
    "# print(\"Data2 =\", data.Address)\n",
    "\n"
   ]
  },
  {
   "cell_type": "code",
   "execution_count": 37,
   "id": "fb50b2b3",
   "metadata": {},
   "outputs": [
    {
     "name": "stdout",
     "output_type": "stream",
     "text": [
      "Address\n",
      "30 Zulaya Dr Irving, TX 75061\n",
      "29 Zulaya Dr Irving, TX 75061\n",
      "28 Zulaya Dr Irving, TX 75061\n",
      "25 Zulaya Dr Irving, TX 75061\n",
      "23 Zulaya Dr Irving, TX 75061\n",
      "8 Yogi Way Irving, TX 75038\n"
     ]
    }
   ],
   "source": [
    "import csv\n",
    "\n",
    "with open('IrvingTX_lots5.csv', 'r') as f:\n",
    "  reader = csv.reader(f)\n",
    "  for row in reader:\n",
    "#     print(row)        \n",
    "    print(row[3])\n"
   ]
  },
  {
   "cell_type": "code",
   "execution_count": null,
   "id": "73fcd2e9",
   "metadata": {},
   "outputs": [],
   "source": []
  }
 ],
 "metadata": {
  "kernelspec": {
   "display_name": "Python 3 (ipykernel)",
   "language": "python",
   "name": "python3"
  },
  "language_info": {
   "codemirror_mode": {
    "name": "ipython",
    "version": 3
   },
   "file_extension": ".py",
   "mimetype": "text/x-python",
   "name": "python",
   "nbconvert_exporter": "python",
   "pygments_lexer": "ipython3",
   "version": "3.11.4"
  }
 },
 "nbformat": 4,
 "nbformat_minor": 5
}
