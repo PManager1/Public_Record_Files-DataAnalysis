{
 "cells": [
  {
   "cell_type": "code",
   "execution_count": 1,
   "id": "4e3c9e2f",
   "metadata": {},
   "outputs": [],
   "source": [
    "filename = \"Source.txt\""
   ]
  },
  {
   "cell_type": "code",
   "execution_count": 2,
   "id": "cc6b6169",
   "metadata": {},
   "outputs": [
    {
     "data": {
      "text/plain": [
       "'Source.txt'"
      ]
     },
     "execution_count": 2,
     "metadata": {},
     "output_type": "execute_result"
    }
   ],
   "source": [
    "filename"
   ]
  },
  {
   "cell_type": "code",
   "execution_count": 3,
   "id": "49f4a080",
   "metadata": {},
   "outputs": [],
   "source": [
    "with open(filename, mode='r') as out_file:\n",
    "    text = out_file.read()\n"
   ]
  },
  {
   "cell_type": "code",
   "execution_count": 4,
   "id": "eeb33489",
   "metadata": {},
   "outputs": [
    {
     "name": "stdout",
     "output_type": "stream",
     "text": [
      "This is the simplest plain text file!\n",
      "\n"
     ]
    }
   ],
   "source": [
    "print(text)"
   ]
  },
  {
   "cell_type": "code",
   "execution_count": 5,
   "id": "743dd879",
   "metadata": {},
   "outputs": [],
   "source": [
    "with open(filename, mode='w') as out_filew:\n",
    "    out_filew.write(\"hello Jay\") \n"
   ]
  },
  {
   "cell_type": "code",
   "execution_count": 9,
   "id": "8aac366f",
   "metadata": {},
   "outputs": [
    {
     "name": "stdout",
     "output_type": "stream",
     "text": [
      "hello Jay\n"
     ]
    }
   ],
   "source": [
    "with open(filename, mode='r') as out_file:\n",
    "    text2 = out_file.read()\n",
    "    print(text2)"
   ]
  }
 ],
 "metadata": {
  "kernelspec": {
   "display_name": "Python 3 (ipykernel)",
   "language": "python",
   "name": "python3"
  },
  "language_info": {
   "codemirror_mode": {
    "name": "ipython",
    "version": 3
   },
   "file_extension": ".py",
   "mimetype": "text/x-python",
   "name": "python",
   "nbconvert_exporter": "python",
   "pygments_lexer": "ipython3",
   "version": "3.10.12"
  }
 },
 "nbformat": 4,
 "nbformat_minor": 5
}
