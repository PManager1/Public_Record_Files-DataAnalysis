{
 "cells": [
  {
   "cell_type": "code",
   "execution_count": 7,
   "id": "4e3c9e2f",
   "metadata": {},
   "outputs": [],
   "source": [
    "filename = \"Bay_county_FL.csv\""
   ]
  },
  {
   "cell_type": "code",
   "execution_count": 8,
   "id": "ab7745ac",
   "metadata": {},
   "outputs": [
    {
     "data": {
      "text/plain": [
       "'Bay_county_FL.csv'"
      ]
     },
     "execution_count": 8,
     "metadata": {},
     "output_type": "execute_result"
    }
   ],
   "source": [
    "filename"
   ]
  },
  {
   "cell_type": "code",
   "execution_count": null,
   "id": "66286f60",
   "metadata": {},
   "outputs": [],
   "source": []
  }
 ],
 "metadata": {
  "kernelspec": {
   "display_name": "Python 3 (ipykernel)",
   "language": "python",
   "name": "python3"
  },
  "language_info": {
   "codemirror_mode": {
    "name": "ipython",
    "version": 3
   },
   "file_extension": ".py",
   "mimetype": "text/x-python",
   "name": "python",
   "nbconvert_exporter": "python",
   "pygments_lexer": "ipython3",
   "version": "3.10.12"
  }
 },
 "nbformat": 4,
 "nbformat_minor": 5
}
