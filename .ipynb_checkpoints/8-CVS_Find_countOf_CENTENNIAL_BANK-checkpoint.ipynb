{
 "cells": [
  {
   "cell_type": "code",
   "execution_count": 4,
   "id": "d87bce51",
   "metadata": {},
   "outputs": [],
   "source": [
    "# https://stackoverflow.com/questions/1801668/convert-a-list-with-strings-all-to-lowercase-or-uppercase\n",
    "\n",
    "import pandas as pd\n",
    "import numpy as np"
   ]
  },
  {
   "cell_type": "code",
   "execution_count": 9,
   "id": "67dd73a8",
   "metadata": {},
   "outputs": [
    {
     "name": "stdout",
     "output_type": "stream",
     "text": [
      "133\n",
      "wfb = 300\n",
      "wf = 2\n"
     ]
    }
   ],
   "source": [
    "# Fnd the count for CENTENNIAL BANK\n",
    "\n",
    "\n",
    "# Read the CSV file\n",
    "df = pd.read_csv('Bay_county_FL.csv')\n",
    "\n",
    "# Find the count of the specific name\n",
    "count = df['Grantee'].value_counts()['CENTENNIAL BANK']\n",
    "\n",
    "# Print the count\n",
    "print(count)\n",
    "\n",
    "\n",
    "wfbcount = df['Grantee'].value_counts()['WELLS FARGO BANK']\n",
    "\n",
    "# Print the count\n",
    "print(\"wfb =\", wfbcount)  # Result = 300  But it has 402\n",
    "\n",
    "\n",
    "wfcount = df['Grantee'].value_counts()['WELLS FARGO']\n",
    "\n",
    "# Print the count\n",
    "print(\"wf =\", wfcount)\n",
    "\n",
    "\n",
    "# from itables import show\n",
    "\n",
    "# show(df , paging=True)\n",
    "\n",
    "\n",
    "# df = pd.read_csv('Bay_county_FL_5.csv')\n",
    "# df = pd.read_csv('Bay_county_FL.csv')\n",
    "\n",
    "# dff= pd.DataFrame(df)\n",
    "# # print(df)\n",
    "\n",
    "\n",
    "# df2 = df.pivot_table(index = ['Grantee'], aggfunc ='size')\n",
    "# print(df2)\n",
    "\n",
    "\n",
    "# Find the count of the specific name\n",
    "# count = df['Grantee'].value_counts()['CENTENNIAL BANK']\n",
    "\n",
    "# Print the count\n",
    "# print(count)\n",
    "\n"
   ]
  },
  {
   "cell_type": "code",
   "execution_count": null,
   "id": "589e869e",
   "metadata": {},
   "outputs": [],
   "source": [
    "# Fimd all the similar names like Bank of ameirca ,  Bank of ameirca of Texas. \n",
    "\n",
    "\n"
   ]
  },
  {
   "cell_type": "code",
   "execution_count": null,
   "id": "51dcd64a",
   "metadata": {},
   "outputs": [],
   "source": []
  }
 ],
 "metadata": {
  "kernelspec": {
   "display_name": "Python 3 (ipykernel)",
   "language": "python",
   "name": "python3"
  },
  "language_info": {
   "codemirror_mode": {
    "name": "ipython",
    "version": 3
   },
   "file_extension": ".py",
   "mimetype": "text/x-python",
   "name": "python",
   "nbconvert_exporter": "python",
   "pygments_lexer": "ipython3",
   "version": "3.10.12"
  }
 },
 "nbformat": 4,
 "nbformat_minor": 5
}
