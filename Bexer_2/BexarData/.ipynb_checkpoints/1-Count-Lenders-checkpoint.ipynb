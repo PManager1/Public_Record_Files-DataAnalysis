{
 "cells": [
  {
   "cell_type": "code",
   "execution_count": 22,
   "id": "d87bce51",
   "metadata": {},
   "outputs": [],
   "source": [
    "import pandas as pd\n",
    "\n",
    "# pd.set_option('display.max_columns', 10) \n",
    "pd.set_option('display.max_rows', 100)\n",
    "# pd.set_option('display.max_colwidth', None)\n",
    "pd.set_option('display.max_columns', None)  \n",
    "\n",
    "\n",
    "df1 = pd.read_csv('1.csv'); df5 = pd.read_csv('5.csv'); df9 = pd.read_csv('9.csv'); df13 = pd.read_csv('13.csv'); \n",
    "df2 = pd.read_csv('2.csv'); df6 = pd.read_csv('6.csv'); df10 = pd.read_csv('10.csv'); df14 = pd.read_csv('14.csv'); \n",
    "df3 = pd.read_csv('3.csv'); df7 = pd.read_csv('7.csv'); df11 = pd.read_csv('11.csv'); df15 = pd.read_csv('15.csv'); \n",
    "df4 = pd.read_csv('4.csv'); df8 = pd.read_csv('8.csv'); df12 = pd.read_csv('12.csv'); df16 = pd.read_csv('16.csv');\n",
    "\n",
    "df17 = pd.read_csv('17.csv'); df20 = pd.read_csv('20.csv'); df23 = pd.read_csv('23.csv'); df26 = pd.read_csv('26.csv');\n",
    "df18 = pd.read_csv('18.csv'); df21 = pd.read_csv('21.csv'); df24 = pd.read_csv('24.csv'); df27 = pd.read_csv('27.csv');\n",
    "df19 = pd.read_csv('19.csv'); df22 = pd.read_csv('22.csv'); df25 = pd.read_csv('25.csv'); df28 = pd.read_csv('28.csv');\n",
    "\n",
    "df29 = pd.read_csv('29.csv'); df30 = pd.read_csv('30.csv'); df31 = pd.read_csv('31.csv'); df32 = pd.read_csv('32.csv');\n",
    "df33 = pd.read_csv('33.csv'); df34 = pd.read_csv('34.csv'); df35 = pd.read_csv('35.csv'); df36 = pd.read_csv('36.csv');\n",
    "\n",
    "\n",
    "# Concatenate the DataFrames\n",
    "df = pd.concat([df1, df2,df3, df4,df5, df6,df7, df8,df9, df10,df11, df12,df13, df14,df15, df16, df10,df11, df12,df13, df14,df15, df16, df17,df18, df19,df20, df21,df22, df23, df24,df25, df26,df27, df28,df29, df30, df31,df32, df33,df34,df35, df36])\n",
    "\n",
    "# Print the DataFrame\n",
    "# print(df)\n",
    "\n",
    "\n",
    "\n",
    "# df = pd.read_csv([\"file1.csv\", \"file2.csv\"])\n",
    "\n",
    "r= df['Grantee'].value_counts()\n",
    "# print(r)\n",
    "# r\n",
    "\n",
    "# r.to_csv('output1.csv', index=False)\n",
    "r.to_csv('output1.csv')\n",
    "\n"
   ]
  },
  {
   "cell_type": "code",
   "execution_count": null,
   "id": "441f1911",
   "metadata": {},
   "outputs": [],
   "source": []
  },
  {
   "cell_type": "code",
   "execution_count": null,
   "id": "c5d6c6ac",
   "metadata": {},
   "outputs": [],
   "source": []
  }
 ],
 "metadata": {
  "kernelspec": {
   "display_name": "Python 3 (ipykernel)",
   "language": "python",
   "name": "python3"
  },
  "language_info": {
   "codemirror_mode": {
    "name": "ipython",
    "version": 3
   },
   "file_extension": ".py",
   "mimetype": "text/x-python",
   "name": "python",
   "nbconvert_exporter": "python",
   "pygments_lexer": "ipython3",
   "version": "3.10.12"
  }
 },
 "nbformat": 4,
 "nbformat_minor": 5
}
