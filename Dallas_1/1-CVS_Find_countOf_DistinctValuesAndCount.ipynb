{
 "cells": [
  {
   "cell_type": "code",
   "execution_count": 5,
   "id": "d87bce51",
   "metadata": {},
   "outputs": [],
   "source": [
    "# https://stackoverflow.com/questions/1801668/convert-a-list-with-strings-all-to-lowercase-or-uppercase\n",
    "\n",
    "\n",
    "\n"
   ]
  },
  {
   "cell_type": "code",
   "execution_count": 6,
   "id": "8e4db265",
   "metadata": {
    "scrolled": true
   },
   "outputs": [
    {
     "data": {
      "text/plain": [
       "SECRETARY OF HOUSING&URBAN DEVELOPMENT    1681\n",
       "UNITED WHOLESALE MORTGAGE LLC             1318\n",
       "BANK OF AMERICA NA                        1133\n",
       "ROCKET MORTGAGE LLC                       1100\n",
       "CREDIT UNION OF TEXAS                     1044\n",
       "                                          ... \n",
       "MANG JOHN E JR                               1\n",
       "WEAVER AMANDA                                1\n",
       "PEKARCIK ALAN                                1\n",
       "LOTT DALTON                                  1\n",
       "PRESTON ROMAN HOLDINGS LLC                   1\n",
       "Name: Grantee, Length: 4169, dtype: int64"
      ]
     },
     "execution_count": 6,
     "metadata": {},
     "output_type": "execute_result"
    }
   ],
   "source": [
    "import pandas as pd\n",
    "\n",
    "# pd.set_option('display.max_columns', 10) \n",
    "pd.set_option('display.max_rows', 100)\n",
    "# pd.set_option('display.max_colwidth', None)\n",
    "pd.set_option('display.max_columns', None)  \n",
    "\n",
    "\n",
    "\n",
    "df = pd.read_csv('Dallas-8-22-to-8-23.csv')\n",
    "\n",
    "r= df['Grantee'].value_counts()\n",
    "# print(r)\n",
    "r\n"
   ]
  },
  {
   "cell_type": "code",
   "execution_count": 7,
   "id": "62ceca54",
   "metadata": {},
   "outputs": [
    {
     "data": {
      "text/plain": [
       "SECRETARY OF HOUSING&URBAN DEVELOPMENT    1681\n",
       "UNITED WHOLESALE MORTGAGE LLC             1318\n",
       "BANK OF AMERICA NA                        1133\n",
       "ROCKET MORTGAGE LLC                       1100\n",
       "CREDIT UNION OF TEXAS                     1044\n",
       "                                          ... \n",
       "MANG JOHN E JR                               1\n",
       "WEAVER AMANDA                                1\n",
       "PEKARCIK ALAN                                1\n",
       "LOTT DALTON                                  1\n",
       "PRESTON ROMAN HOLDINGS LLC                   1\n",
       "Name: Grantee, Length: 4169, dtype: int64"
      ]
     },
     "execution_count": 7,
     "metadata": {},
     "output_type": "execute_result"
    }
   ],
   "source": [
    "# To download csv file. \n",
    "\n",
    "import pandas as pd\n",
    "\n",
    "# pd.set_option('display.max_columns', 10) \n",
    "pd.set_option('display.max_rows', 100)\n",
    "# pd.set_option('display.max_colwidth', None)\n",
    "pd.set_option('display.max_columns', None)  \n",
    "\n",
    "\n",
    "\n",
    "df = pd.read_csv('Dallas-8-22-to-8-23.csv')\n",
    "\n",
    "r= df['Grantee'].value_counts()\n",
    "# print(r)\n",
    "r\n",
    "\n",
    "# r.to_csv('output2.csv')\n"
   ]
  },
  {
   "cell_type": "code",
   "execution_count": 10,
   "id": "43aff853",
   "metadata": {},
   "outputs": [
    {
     "ename": "ModuleNotFoundError",
     "evalue": "No module named 'itables'",
     "output_type": "error",
     "traceback": [
      "\u001b[0;31m---------------------------------------------------------------------------\u001b[0m",
      "\u001b[0;31mModuleNotFoundError\u001b[0m                       Traceback (most recent call last)",
      "Cell \u001b[0;32mIn[10], line 32\u001b[0m\n\u001b[1;32m     20\u001b[0m r\u001b[38;5;241m=\u001b[39m df[\u001b[38;5;124m'\u001b[39m\u001b[38;5;124mGrantee\u001b[39m\u001b[38;5;124m'\u001b[39m]\u001b[38;5;241m.\u001b[39mvalue_counts()\n\u001b[1;32m     22\u001b[0m \u001b[38;5;66;03m# from itables import show\u001b[39;00m\n\u001b[1;32m     23\u001b[0m \u001b[38;5;66;03m#         show(r)\u001b[39;00m\n\u001b[1;32m     24\u001b[0m \n\u001b[0;32m   (...)\u001b[0m\n\u001b[1;32m     28\u001b[0m \u001b[38;5;66;03m#                       ): \u001b[39;00m\n\u001b[1;32m     29\u001b[0m \u001b[38;5;66;03m#     display(r)\u001b[39;00m\n\u001b[0;32m---> 32\u001b[0m \u001b[38;5;28;01mfrom\u001b[39;00m \u001b[38;5;21;01mitables\u001b[39;00m \u001b[38;5;28;01mimport\u001b[39;00m show\n\u001b[1;32m     34\u001b[0m show(r , paging\u001b[38;5;241m=\u001b[39m\u001b[38;5;28;01mTrue\u001b[39;00m)\n",
      "\u001b[0;31mModuleNotFoundError\u001b[0m: No module named 'itables'"
     ]
    }
   ],
   "source": [
    "# Read the excel file\n",
    "dfk = pd.read_csv('KeywordsRem.csv') \n",
    "\n",
    "# Get the list of values\n",
    "caps = dfk['Keywords'].tolist()\n",
    "\n",
    "lowers = [x.lower() for x in caps]\n",
    "\n",
    "elimkeys = caps + lowers\n",
    "\n",
    "# df = pd.read_csv('Bay_county_FL_5.csv')\n",
    "\n",
    "df = pd.read_csv('Dallas-8-22-to-8-23.csv')\n",
    "\n",
    "df = df[df['Grantee'].str.contains('|'.join(elimkeys))==False]\n",
    "# df\n",
    "# from itables import show\n",
    "# show(df , paging=True)\n",
    "\n",
    "r= df['Grantee'].value_counts()\n",
    "\n",
    "# from itables import show\n",
    "#         show(r)\n",
    "\n",
    "# with pd.option_context('display.max_rows', None,\n",
    "#                        'display.max_colwidth', 100,\n",
    "                      \n",
    "#                       ): \n",
    "#     display(r)\n",
    "\n",
    "\n",
    "from itables import show\n",
    "\n",
    "show(r , paging=True)\n",
    "\n",
    "\n"
   ]
  },
  {
   "cell_type": "code",
   "execution_count": null,
   "id": "8339a4a9",
   "metadata": {},
   "outputs": [],
   "source": []
  },
  {
   "cell_type": "code",
   "execution_count": null,
   "id": "06b621ab",
   "metadata": {},
   "outputs": [],
   "source": []
  }
 ],
 "metadata": {
  "kernelspec": {
   "display_name": "Python 3 (ipykernel)",
   "language": "python",
   "name": "python3"
  },
  "language_info": {
   "codemirror_mode": {
    "name": "ipython",
    "version": 3
   },
   "file_extension": ".py",
   "mimetype": "text/x-python",
   "name": "python",
   "nbconvert_exporter": "python",
   "pygments_lexer": "ipython3",
   "version": "3.11.4"
  }
 },
 "nbformat": 4,
 "nbformat_minor": 5
}
