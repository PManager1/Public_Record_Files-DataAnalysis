{
 "cells": [
  {
   "cell_type": "code",
   "execution_count": 13,
   "id": "4e3c9e2f",
   "metadata": {},
   "outputs": [],
   "source": [
    "filename1 = \"Bay_county_FL.csv\""
   ]
  },
  {
   "cell_type": "code",
   "execution_count": 14,
   "id": "1b72d7f3",
   "metadata": {},
   "outputs": [],
   "source": [
    "filename = \"source.txt\""
   ]
  },
  {
   "cell_type": "code",
   "execution_count": 15,
   "id": "cc6b6169",
   "metadata": {},
   "outputs": [
    {
     "data": {
      "text/plain": [
       "'source.txt'"
      ]
     },
     "execution_count": 15,
     "metadata": {},
     "output_type": "execute_result"
    }
   ],
   "source": [
    "filename"
   ]
  },
  {
   "cell_type": "code",
   "execution_count": 16,
   "id": "49f4a080",
   "metadata": {},
   "outputs": [],
   "source": [
    "file = open(filename, mode='r')"
   ]
  },
  {
   "cell_type": "code",
   "execution_count": 18,
   "id": "df780f0f",
   "metadata": {},
   "outputs": [
    {
     "data": {
      "text/plain": [
       "'This is the simplest plain text file!\\n'"
      ]
     },
     "execution_count": 18,
     "metadata": {},
     "output_type": "execute_result"
    }
   ],
   "source": [
    "file.read()"
   ]
  },
  {
   "cell_type": "code",
   "execution_count": null,
   "id": "eeb33489",
   "metadata": {},
   "outputs": [],
   "source": []
  }
 ],
 "metadata": {
  "kernelspec": {
   "display_name": "Python 3 (ipykernel)",
   "language": "python",
   "name": "python3"
  },
  "language_info": {
   "codemirror_mode": {
    "name": "ipython",
    "version": 3
   },
   "file_extension": ".py",
   "mimetype": "text/x-python",
   "name": "python",
   "nbconvert_exporter": "python",
   "pygments_lexer": "ipython3",
   "version": "3.10.12"
  }
 },
 "nbformat": 4,
 "nbformat_minor": 5
}
