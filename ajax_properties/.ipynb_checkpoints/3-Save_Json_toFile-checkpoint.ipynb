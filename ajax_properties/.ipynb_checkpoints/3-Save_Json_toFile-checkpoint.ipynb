{
 "cells": [
  {
   "cell_type": "code",
   "execution_count": 29,
   "id": "b39376a2",
   "metadata": {},
   "outputs": [
    {
     "name": "stdout",
     "output_type": "stream",
     "text": [
      "The request was successful\n",
      "{'login': 'bard', 'id': 19322, 'node_id': 'MDQ6VXNlcjE5MzIy', 'avatar_url': 'https://avatars.githubusercontent.com/u/19322?v=4', 'gravatar_id': '', 'url': 'https://api.github.com/users/bard', 'html_url': 'https://github.com/bard', 'followers_url': 'https://api.github.com/users/bard/followers', 'following_url': 'https://api.github.com/users/bard/following{/other_user}', 'gists_url': 'https://api.github.com/users/bard/gists{/gist_id}', 'starred_url': 'https://api.github.com/users/bard/starred{/owner}{/repo}', 'subscriptions_url': 'https://api.github.com/users/bard/subscriptions', 'organizations_url': 'https://api.github.com/users/bard/orgs', 'repos_url': 'https://api.github.com/users/bard/repos', 'events_url': 'https://api.github.com/users/bard/events{/privacy}', 'received_events_url': 'https://api.github.com/users/bard/received_events', 'type': 'User', 'site_admin': False, 'name': 'Massimiliano Mirra', 'company': None, 'blog': 'http://massimilianomirra.com/', 'location': 'London, UK', 'email': None, 'hireable': None, 'bio': 'programming polyglot / emacs nerd /\\r\\nsw eng @ gitcoin', 'twitter_username': None, 'public_repos': 90, 'public_gists': 7, 'followers': 105, 'following': 12, 'created_at': '2008-08-02T08:21:27Z', 'updated_at': '2023-08-02T10:32:16Z'}\n"
     ]
    }
   ],
   "source": [
    "import pandas as pd\n",
    "import requests\n",
    "\n",
    "# Make an ajax request to the Google homepage\n",
    "response = requests.get('https://api.github.com/users/bard')\n",
    "\n",
    "if response.status_code == 200:\n",
    "  # The request was successful\n",
    "  print('The request was successful')\n",
    "  user = response.json()\n",
    "  print(user)\n",
    "\n",
    "    \n",
    "else:\n",
    "  # The request failed\n",
    "  print('The request failed')"
   ]
  },
  {
   "cell_type": "code",
   "execution_count": null,
   "id": "e6234515",
   "metadata": {},
   "outputs": [],
   "source": []
  },
  {
   "cell_type": "code",
   "execution_count": null,
   "id": "4afcfd71",
   "metadata": {},
   "outputs": [],
   "source": []
  }
 ],
 "metadata": {
  "kernelspec": {
   "display_name": "Python 3 (ipykernel)",
   "language": "python",
   "name": "python3"
  },
  "language_info": {
   "codemirror_mode": {
    "name": "ipython",
    "version": 3
   },
   "file_extension": ".py",
   "mimetype": "text/x-python",
   "name": "python",
   "nbconvert_exporter": "python",
   "pygments_lexer": "ipython3",
   "version": "3.10.12"
  }
 },
 "nbformat": 4,
 "nbformat_minor": 5
}
