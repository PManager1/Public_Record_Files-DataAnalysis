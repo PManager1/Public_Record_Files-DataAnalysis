{
 "cells": [
  {
   "cell_type": "code",
   "execution_count": 8,
   "id": "b39376a2",
   "metadata": {},
   "outputs": [
    {
     "name": "stdout",
     "output_type": "stream",
     "text": [
      "<Response [200]>\n",
      "The request was successful\n"
     ]
    }
   ],
   "source": [
    "import requests\n",
    "\n",
    "# Make an ajax request to the Google homepage\n",
    "response = requests.get('https://api.github.com/users/bard')\n",
    "\n",
    "\n",
    "# response = requests.get(url)\n",
    "# Check the status code of the response\n",
    "print(response)\n",
    "\n",
    "if response.status_code == 200:\n",
    "  # The request was successful\n",
    "#   print('The request was successful')\n",
    "  user = response.json()\n",
    "  print(user)\n",
    "    \n",
    "    \n",
    "else:\n",
    "  # The request failed\n",
    "  print('The request failed')"
   ]
  },
  {
   "cell_type": "code",
   "execution_count": null,
   "id": "e6234515",
   "metadata": {},
   "outputs": [],
   "source": []
  },
  {
   "cell_type": "code",
   "execution_count": null,
   "id": "da2a3cfc",
   "metadata": {},
   "outputs": [],
   "source": []
  }
 ],
 "metadata": {
  "kernelspec": {
   "display_name": "Python 3 (ipykernel)",
   "language": "python",
   "name": "python3"
  },
  "language_info": {
   "codemirror_mode": {
    "name": "ipython",
    "version": 3
   },
   "file_extension": ".py",
   "mimetype": "text/x-python",
   "name": "python",
   "nbconvert_exporter": "python",
   "pygments_lexer": "ipython3",
   "version": "3.10.12"
  }
 },
 "nbformat": 4,
 "nbformat_minor": 5
}
