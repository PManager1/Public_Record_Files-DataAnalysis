{
 "cells": [
  {
   "cell_type": "code",
   "execution_count": 4,
   "id": "b39376a2",
   "metadata": {},
   "outputs": [
    {
     "name": "stdout",
     "output_type": "stream",
     "text": [
      "The request was successful\n",
      "{'login': 'bard', 'id': 19322, 'node_id': 'MDQ6VXNlcjE5MzIy', 'avatar_url': 'https://avatars.githubusercontent.com/u/19322?v=4', 'gravatar_id': '', 'url': 'https://api.github.com/users/bard', 'html_url': 'https://github.com/bard', 'followers_url': 'https://api.github.com/users/bard/followers', 'following_url': 'https://api.github.com/users/bard/following{/other_user}', 'gists_url': 'https://api.github.com/users/bard/gists{/gist_id}', 'starred_url': 'https://api.github.com/users/bard/starred{/owner}{/repo}', 'subscriptions_url': 'https://api.github.com/users/bard/subscriptions', 'organizations_url': 'https://api.github.com/users/bard/orgs', 'repos_url': 'https://api.github.com/users/bard/repos', 'events_url': 'https://api.github.com/users/bard/events{/privacy}', 'received_events_url': 'https://api.github.com/users/bard/received_events', 'type': 'User', 'site_admin': False, 'name': 'Massimiliano Mirra', 'company': None, 'blog': 'http://massimilianomirra.com/', 'location': 'London, UK', 'email': None, 'hireable': None, 'bio': 'programming polyglot / emacs nerd /\\r\\nsw eng @ gitcoin', 'twitter_username': None, 'public_repos': 90, 'public_gists': 7, 'followers': 105, 'following': 12, 'created_at': '2008-08-02T08:21:27Z', 'updated_at': '2023-08-02T10:32:16Z'}\n"
     ]
    },
    {
     "ename": "AttributeError",
     "evalue": "'dict' object has no attribute 'to_csv'",
     "output_type": "error",
     "traceback": [
      "\u001b[0;31m---------------------------------------------------------------------------\u001b[0m",
      "\u001b[0;31mAttributeError\u001b[0m                            Traceback (most recent call last)",
      "Cell \u001b[0;32mIn[4], line 13\u001b[0m\n\u001b[1;32m     10\u001b[0m   data \u001b[38;5;241m=\u001b[39m response\u001b[38;5;241m.\u001b[39mjson()\n\u001b[1;32m     11\u001b[0m   \u001b[38;5;28mprint\u001b[39m(data)\n\u001b[0;32m---> 13\u001b[0m   \u001b[43mdata\u001b[49m\u001b[38;5;241;43m.\u001b[39;49m\u001b[43mto_csv\u001b[49m(\u001b[38;5;124m'\u001b[39m\u001b[38;5;124mdata.csv\u001b[39m\u001b[38;5;124m'\u001b[39m, index\u001b[38;5;241m=\u001b[39m\u001b[38;5;28;01mFalse\u001b[39;00m)  \n\u001b[1;32m     16\u001b[0m \u001b[38;5;28;01melse\u001b[39;00m:\n\u001b[1;32m     17\u001b[0m   \u001b[38;5;66;03m# The request failed\u001b[39;00m\n\u001b[1;32m     18\u001b[0m   \u001b[38;5;28mprint\u001b[39m(\u001b[38;5;124m'\u001b[39m\u001b[38;5;124mThe request failed\u001b[39m\u001b[38;5;124m'\u001b[39m)\n",
      "\u001b[0;31mAttributeError\u001b[0m: 'dict' object has no attribute 'to_csv'"
     ]
    }
   ],
   "source": [
    "import pandas as pd\n",
    "import requests\n",
    "\n",
    "# Make an ajax request to the Google homepage\n",
    "response = requests.get('https://api.github.com/users/bard')\n",
    "\n",
    "if response.status_code == 200:\n",
    "  # The request was successful\n",
    "  print('The request was successful')\n",
    "  data = response.json()\n",
    "  print(data)\n",
    "    \n",
    "  data.to_csv('data.csv', index=False)  \n",
    "\n",
    "    \n",
    "else:\n",
    "  # The request failed\n",
    "  print('The request failed')"
   ]
  },
  {
   "cell_type": "code",
   "execution_count": null,
   "id": "e6234515",
   "metadata": {},
   "outputs": [],
   "source": []
  },
  {
   "cell_type": "code",
   "execution_count": null,
   "id": "4afcfd71",
   "metadata": {},
   "outputs": [],
   "source": []
  }
 ],
 "metadata": {
  "kernelspec": {
   "display_name": "Python 3 (ipykernel)",
   "language": "python",
   "name": "python3"
  },
  "language_info": {
   "codemirror_mode": {
    "name": "ipython",
    "version": 3
   },
   "file_extension": ".py",
   "mimetype": "text/x-python",
   "name": "python",
   "nbconvert_exporter": "python",
   "pygments_lexer": "ipython3",
   "version": "3.10.12"
  }
 },
 "nbformat": 4,
 "nbformat_minor": 5
}
