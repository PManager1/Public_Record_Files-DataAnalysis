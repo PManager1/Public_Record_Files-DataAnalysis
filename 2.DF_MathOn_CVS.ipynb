{
 "cells": [
  {
   "cell_type": "code",
   "execution_count": 1,
   "id": "4d3ca3e4",
   "metadata": {},
   "outputs": [],
   "source": [
    "# https://www.statology.org/pandas-select-rows-based-on-column-values/\n",
    "# https://www.statology.org/pandas-check-if-column-contains-string/\n",
    "\n",
    "import re\n",
    "import pandas as pd\n",
    "\n",
    "df = pd.read_csv('Bay_county_FL_5.csv')"
   ]
  },
  {
   "cell_type": "code",
   "execution_count": 2,
   "id": "f98ba75a",
   "metadata": {},
   "outputs": [
    {
     "data": {
      "text/plain": [
       "<pandas.core.indexing._LocIndexer at 0x111da6de0>"
      ]
     },
     "execution_count": 2,
     "metadata": {},
     "output_type": "execute_result"
    }
   ],
   "source": [
    "df.loc"
   ]
  },
  {
   "cell_type": "code",
   "execution_count": 3,
   "id": "8a2b585f",
   "metadata": {},
   "outputs": [
    {
     "data": {
      "text/html": [
       "<div>\n",
       "<style scoped>\n",
       "    .dataframe tbody tr th:only-of-type {\n",
       "        vertical-align: middle;\n",
       "    }\n",
       "\n",
       "    .dataframe tbody tr th {\n",
       "        vertical-align: top;\n",
       "    }\n",
       "\n",
       "    .dataframe thead th {\n",
       "        text-align: right;\n",
       "    }\n",
       "</style>\n",
       "<table border=\"1\" class=\"dataframe\">\n",
       "  <thead>\n",
       "    <tr style=\"text-align: right;\">\n",
       "      <th></th>\n",
       "      <th>Status</th>\n",
       "      <th>Grantor</th>\n",
       "      <th>Grantee</th>\n",
       "      <th>Record Date</th>\n",
       "      <th>Doc Type</th>\n",
       "      <th>Book Type</th>\n",
       "      <th>Book</th>\n",
       "      <th>Page</th>\n",
       "      <th>Clerk File #</th>\n",
       "      <th>Legal</th>\n",
       "      <th>DocLinks</th>\n",
       "    </tr>\n",
       "  </thead>\n",
       "  <tbody>\n",
       "    <tr>\n",
       "      <th>0</th>\n",
       "      <td>V</td>\n",
       "      <td>BOOTH BARBARA A\\nBOOTH PAUL S</td>\n",
       "      <td>SECRETARY OF VETERANS AFFAIRS</td>\n",
       "      <td>5/22/23</td>\n",
       "      <td>MORTGAGE</td>\n",
       "      <td>OR</td>\n",
       "      <td>4691</td>\n",
       "      <td>153</td>\n",
       "      <td>2023031446</td>\n",
       "      <td>L 56 PARKWAY DEVELOPERS INC\\n</td>\n",
       "      <td>NaN</td>\n",
       "    </tr>\n",
       "    <tr>\n",
       "      <th>1</th>\n",
       "      <td>V</td>\n",
       "      <td>PHL INVESTMENTS LLC</td>\n",
       "      <td>CADENCE BANK</td>\n",
       "      <td>5/22/23</td>\n",
       "      <td>MORTGAGE</td>\n",
       "      <td>OR</td>\n",
       "      <td>4690</td>\n",
       "      <td>168</td>\n",
       "      <td>2023031454</td>\n",
       "      <td>UNIT 301 VISTA DEL MAR I\\n</td>\n",
       "      <td>NaN</td>\n",
       "    </tr>\n",
       "    <tr>\n",
       "      <th>2</th>\n",
       "      <td>V</td>\n",
       "      <td>PHL INVESTMENTS LLC</td>\n",
       "      <td>CADENCE BANK</td>\n",
       "      <td>5/22/23</td>\n",
       "      <td>MORTGAGE</td>\n",
       "      <td>OR</td>\n",
       "      <td>4691</td>\n",
       "      <td>168</td>\n",
       "      <td>2023031454</td>\n",
       "      <td>UNIT 301 VISTA DEL MAR I\\n</td>\n",
       "      <td>NaN</td>\n",
       "    </tr>\n",
       "    <tr>\n",
       "      <th>3</th>\n",
       "      <td>V</td>\n",
       "      <td>PEREZ LUIS ALBERTO CUBAS\\nPRADO DANIELA CARDENAS</td>\n",
       "      <td>MORTGAGE ELECTRONIC REGISTRATION SYSTEMS INC\\n...</td>\n",
       "      <td>5/22/23</td>\n",
       "      <td>MORTGAGE</td>\n",
       "      <td>OR</td>\n",
       "      <td>4691</td>\n",
       "      <td>184</td>\n",
       "      <td>2023031458</td>\n",
       "      <td>L 56 CEDARS CROSSING\\n</td>\n",
       "      <td>NaN</td>\n",
       "    </tr>\n",
       "    <tr>\n",
       "      <th>4</th>\n",
       "      <td>V</td>\n",
       "      <td>CLARK JAMES A JR\\nCLARK KELSIE M</td>\n",
       "      <td>REGIONS BANK\\nREGIONS MORTGAGE</td>\n",
       "      <td>5/22/23</td>\n",
       "      <td>MORTGAGE</td>\n",
       "      <td>OR</td>\n",
       "      <td>4691</td>\n",
       "      <td>204</td>\n",
       "      <td>2023031461</td>\n",
       "      <td>L 119 BREAKFAST POINT EAST PH 1B\\n</td>\n",
       "      <td>NaN</td>\n",
       "    </tr>\n",
       "    <tr>\n",
       "      <th>5</th>\n",
       "      <td>V</td>\n",
       "      <td>KRASINSKAS KRISTEN</td>\n",
       "      <td>FIGURE LENDING LLC</td>\n",
       "      <td>5/22/23</td>\n",
       "      <td>MORTGAGE</td>\n",
       "      <td>OR</td>\n",
       "      <td>4691</td>\n",
       "      <td>250</td>\n",
       "      <td>2023031479</td>\n",
       "      <td>L17 BLK 1 UNIT A JOHN G HENTZ JRS 1ST ADD\\n</td>\n",
       "      <td>NaN</td>\n",
       "    </tr>\n",
       "  </tbody>\n",
       "</table>\n",
       "</div>"
      ],
      "text/plain": [
       "  Status                                           Grantor  \\\n",
       "0      V                     BOOTH BARBARA A\\nBOOTH PAUL S   \n",
       "1      V                               PHL INVESTMENTS LLC   \n",
       "2      V                               PHL INVESTMENTS LLC   \n",
       "3      V  PEREZ LUIS ALBERTO CUBAS\\nPRADO DANIELA CARDENAS   \n",
       "4      V                  CLARK JAMES A JR\\nCLARK KELSIE M   \n",
       "5      V                                KRASINSKAS KRISTEN   \n",
       "\n",
       "                                             Grantee Record Date  Doc Type  \\\n",
       "0                      SECRETARY OF VETERANS AFFAIRS     5/22/23  MORTGAGE   \n",
       "1                                       CADENCE BANK     5/22/23  MORTGAGE   \n",
       "2                                       CADENCE BANK     5/22/23  MORTGAGE   \n",
       "3  MORTGAGE ELECTRONIC REGISTRATION SYSTEMS INC\\n...     5/22/23  MORTGAGE   \n",
       "4                     REGIONS BANK\\nREGIONS MORTGAGE     5/22/23  MORTGAGE   \n",
       "5                                 FIGURE LENDING LLC     5/22/23  MORTGAGE   \n",
       "\n",
       "  Book Type  Book  Page  Clerk File #  \\\n",
       "0        OR  4691   153    2023031446   \n",
       "1        OR  4690   168    2023031454   \n",
       "2        OR  4691   168    2023031454   \n",
       "3        OR  4691   184    2023031458   \n",
       "4        OR  4691   204    2023031461   \n",
       "5        OR  4691   250    2023031479   \n",
       "\n",
       "                                         Legal  DocLinks  \n",
       "0                L 56 PARKWAY DEVELOPERS INC\\n       NaN  \n",
       "1                   UNIT 301 VISTA DEL MAR I\\n       NaN  \n",
       "2                   UNIT 301 VISTA DEL MAR I\\n       NaN  \n",
       "3                       L 56 CEDARS CROSSING\\n       NaN  \n",
       "4           L 119 BREAKFAST POINT EAST PH 1B\\n       NaN  \n",
       "5  L17 BLK 1 UNIT A JOHN G HENTZ JRS 1ST ADD\\n       NaN  "
      ]
     },
     "execution_count": 3,
     "metadata": {},
     "output_type": "execute_result"
    }
   ],
   "source": [
    "df"
   ]
  },
  {
   "cell_type": "code",
   "execution_count": 10,
   "id": "7b650a2f",
   "metadata": {},
   "outputs": [
    {
     "data": {
      "text/html": [
       "<div>\n",
       "<style scoped>\n",
       "    .dataframe tbody tr th:only-of-type {\n",
       "        vertical-align: middle;\n",
       "    }\n",
       "\n",
       "    .dataframe tbody tr th {\n",
       "        vertical-align: top;\n",
       "    }\n",
       "\n",
       "    .dataframe thead th {\n",
       "        text-align: right;\n",
       "    }\n",
       "</style>\n",
       "<table border=\"1\" class=\"dataframe\">\n",
       "  <thead>\n",
       "    <tr style=\"text-align: right;\">\n",
       "      <th></th>\n",
       "      <th>Status</th>\n",
       "      <th>Grantor</th>\n",
       "      <th>Grantee</th>\n",
       "      <th>Record Date</th>\n",
       "      <th>Doc Type</th>\n",
       "      <th>Book Type</th>\n",
       "      <th>Book</th>\n",
       "      <th>Page</th>\n",
       "      <th>Clerk File #</th>\n",
       "      <th>Legal</th>\n",
       "      <th>DocLinks</th>\n",
       "    </tr>\n",
       "  </thead>\n",
       "  <tbody>\n",
       "    <tr>\n",
       "      <th>1</th>\n",
       "      <td>V</td>\n",
       "      <td>PHL INVESTMENTS LLC</td>\n",
       "      <td>CADENCE BANK</td>\n",
       "      <td>5/22/23</td>\n",
       "      <td>MORTGAGE</td>\n",
       "      <td>OR</td>\n",
       "      <td>4690</td>\n",
       "      <td>168</td>\n",
       "      <td>2023031454</td>\n",
       "      <td>UNIT 301 VISTA DEL MAR I\\n</td>\n",
       "      <td>NaN</td>\n",
       "    </tr>\n",
       "    <tr>\n",
       "      <th>2</th>\n",
       "      <td>V</td>\n",
       "      <td>PHL INVESTMENTS LLC</td>\n",
       "      <td>CADENCE BANK</td>\n",
       "      <td>5/22/23</td>\n",
       "      <td>MORTGAGE</td>\n",
       "      <td>OR</td>\n",
       "      <td>4691</td>\n",
       "      <td>168</td>\n",
       "      <td>2023031454</td>\n",
       "      <td>UNIT 301 VISTA DEL MAR I\\n</td>\n",
       "      <td>NaN</td>\n",
       "    </tr>\n",
       "  </tbody>\n",
       "</table>\n",
       "</div>"
      ],
      "text/plain": [
       "  Status              Grantor       Grantee Record Date  Doc Type Book Type  \\\n",
       "1      V  PHL INVESTMENTS LLC  CADENCE BANK     5/22/23  MORTGAGE        OR   \n",
       "2      V  PHL INVESTMENTS LLC  CADENCE BANK     5/22/23  MORTGAGE        OR   \n",
       "\n",
       "   Book  Page  Clerk File #                       Legal  DocLinks  \n",
       "1  4690   168    2023031454  UNIT 301 VISTA DEL MAR I\\n       NaN  \n",
       "2  4691   168    2023031454  UNIT 301 VISTA DEL MAR I\\n       NaN  "
      ]
     },
     "execution_count": 10,
     "metadata": {},
     "output_type": "execute_result"
    }
   ],
   "source": [
    "# df.loc[df['Book'] == 4690]\n",
    "df.loc[df['Grantee'] == 'CADENCE BANK']  "
   ]
  },
  {
   "cell_type": "code",
   "execution_count": 11,
   "id": "338d695a",
   "metadata": {},
   "outputs": [
    {
     "name": "stdout",
     "output_type": "stream",
     "text": [
      "True\n"
     ]
    }
   ],
   "source": [
    "# df.loc[df['Grantee'].str.contains('BANK').any() \n",
    "h = df['Grantee'].str.contains('BANK').any()       "
   ]
  },
  {
   "cell_type": "code",
   "execution_count": 12,
   "id": "ba6f96f2",
   "metadata": {},
   "outputs": [
    {
     "data": {
      "text/plain": [
       "3"
      ]
     },
     "execution_count": 12,
     "metadata": {},
     "output_type": "execute_result"
    }
   ],
   "source": [
    "df['Grantee'].str.contains('BANK').sum()"
   ]
  },
  {
   "cell_type": "code",
   "execution_count": 13,
   "id": "9a2de268",
   "metadata": {},
   "outputs": [
    {
     "name": "stdout",
     "output_type": "stream",
     "text": [
      "  Status                           Grantor                         Grantee  \\\n",
      "1      V               PHL INVESTMENTS LLC                    CADENCE BANK   \n",
      "2      V               PHL INVESTMENTS LLC                    CADENCE BANK   \n",
      "4      V  CLARK JAMES A JR\\nCLARK KELSIE M  REGIONS BANK\\nREGIONS MORTGAGE   \n",
      "\n",
      "  Record Date  Doc Type Book Type  Book  Page  Clerk File #  \\\n",
      "1     5/22/23  MORTGAGE        OR  4690   168    2023031454   \n",
      "2     5/22/23  MORTGAGE        OR  4691   168    2023031454   \n",
      "4     5/22/23  MORTGAGE        OR  4691   204    2023031461   \n",
      "\n",
      "                                Legal  DocLinks  \n",
      "1          UNIT 301 VISTA DEL MAR I\\n       NaN  \n",
      "2          UNIT 301 VISTA DEL MAR I\\n       NaN  \n",
      "4  L 119 BREAKFAST POINT EAST PH 1B\\n       NaN  \n"
     ]
    }
   ],
   "source": [
    "df = df[df['Grantee'].str.contains('BANK')]\n",
    "print(df)"
   ]
  },
  {
   "cell_type": "code",
   "execution_count": null,
   "id": "cd7b226f",
   "metadata": {},
   "outputs": [],
   "source": []
  }
 ],
 "metadata": {
  "kernelspec": {
   "display_name": "Python 3 (ipykernel)",
   "language": "python",
   "name": "python3"
  },
  "language_info": {
   "codemirror_mode": {
    "name": "ipython",
    "version": 3
   },
   "file_extension": ".py",
   "mimetype": "text/x-python",
   "name": "python",
   "nbconvert_exporter": "python",
   "pygments_lexer": "ipython3",
   "version": "3.10.12"
  }
 },
 "nbformat": 4,
 "nbformat_minor": 5
}
