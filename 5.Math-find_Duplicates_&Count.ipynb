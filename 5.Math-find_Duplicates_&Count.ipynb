{
 "cells": [
  {
   "cell_type": "code",
   "execution_count": 13,
   "id": "4d3ca3e4",
   "metadata": {},
   "outputs": [
    {
     "name": "stdout",
     "output_type": "stream",
     "text": [
      "   Courses    Fee Duration  Discount\n",
      "0    Spark  22000   30days      1000\n",
      "1  PySpark  25000      NaN      2300\n",
      "2   Hadoop  22000   50days      1000\n",
      "3   Pandas  24000   40days      2300\n",
      "4    Spark  22000   30days      2500\n",
      "5   Pandas  24000     None      1500\n",
      "6   Hadoop  25000      NaN      2000\n",
      "===============\n",
      "Courses\n",
      "Hadoop     2\n",
      "Pandas     2\n",
      "PySpark    1\n",
      "Spark      2\n",
      "dtype: int64\n"
     ]
    }
   ],
   "source": [
    "# https://sparkbyexamples.com/pandas/how-to-count-duplicates-in-pandas-dataframe/\n",
    "\n",
    "# Get The Count Duplicates in DataFrame \n",
    "import pandas as pd\n",
    "import numpy as np\n",
    "\n",
    "\n",
    "\n",
    "technologies= ({\n",
    "    'Courses':[\"Spark\",\"PySpark\",\"Hadoop\",\"Pandas\",\"Spark\",\"Pandas\",\"Hadoop\"],\n",
    "    'Fee' :[22000,25000,22000,24000,22000,24000,25000],\n",
    "    'Duration':['30days',np.nan,'50days','40days','30days', None,np.nan],\n",
    "    'Discount':[1000,2300,1000,2300,2500,1500,2000]\n",
    "              })\n",
    "df = pd.DataFrame(technologies)\n",
    "print(df)\n",
    "\n",
    "print(\"===============\")\n",
    "\n",
    "df2 = df.pivot_table(index = ['Courses'], aggfunc ='size')\n",
    "print(df2)\n",
    "\n",
    "\n",
    "# df2 = df.pivot_table(index = ['Courses', 'Fee'], aggfunc ='size')\n",
    "# print(df2)"
   ]
  },
  {
   "cell_type": "code",
   "execution_count": null,
   "id": "e5dc2660",
   "metadata": {},
   "outputs": [],
   "source": []
  },
  {
   "cell_type": "code",
   "execution_count": null,
   "id": "b9fa7c25",
   "metadata": {},
   "outputs": [],
   "source": []
  }
 ],
 "metadata": {
  "kernelspec": {
   "display_name": "Python 3 (ipykernel)",
   "language": "python",
   "name": "python3"
  },
  "language_info": {
   "codemirror_mode": {
    "name": "ipython",
    "version": 3
   },
   "file_extension": ".py",
   "mimetype": "text/x-python",
   "name": "python",
   "nbconvert_exporter": "python",
   "pygments_lexer": "ipython3",
   "version": "3.10.12"
  }
 },
 "nbformat": 4,
 "nbformat_minor": 5
}
