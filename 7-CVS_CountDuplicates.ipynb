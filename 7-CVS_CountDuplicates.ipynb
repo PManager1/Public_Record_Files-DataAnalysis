{
 "cells": [
  {
   "cell_type": "code",
   "execution_count": 6,
   "id": "d87bce51",
   "metadata": {},
   "outputs": [],
   "source": [
    "# https://stackoverflow.com/questions/1801668/convert-a-list-with-strings-all-to-lowercase-or-uppercase\n",
    "\n",
    "import pandas as pd\n",
    "import numpy as np"
   ]
  },
  {
   "cell_type": "code",
   "execution_count": 10,
   "id": "67dd73a8",
   "metadata": {},
   "outputs": [
    {
     "name": "stdout",
     "output_type": "stream",
     "text": [
      "Grantee\n",
      "CADENCE                                                                      1\n",
      "CADENCE BANK                                                                 1\n",
      "FIGURE LENDING LLC                                                           1\n",
      "MORTGAGE ELECTRONIC REGISTRATION SYSTEMS INC\\nTRUST MORTGAGE LENDING CORP    1\n",
      "REGIONS BANK\\nREGIONS MORTGAGE                                               1\n",
      "SECRETARY OF VETERANS AFFAIRS                                                1\n",
      "dtype: int64\n"
     ]
    }
   ],
   "source": [
    "df = pd.read_csv('Bay_county_FL_5.csv')\n",
    "\n",
    "df = df[df['Grantee'].str.contains('|'.join(elimkeys))==False]\n",
    "\n",
    "\n",
    "from itables import show\n",
    "\n",
    "# show(df , paging=True)\n",
    "\n",
    "\n",
    "df = pd.read_csv('Bay_county_FL_5.csv')\n",
    "\n",
    "dff= pd.DataFrame(df)\n",
    "# print(df)\n",
    "\n",
    "\n",
    "\n",
    "df2 = df.pivot_table(index = ['Grantee'], aggfunc ='size')\n",
    "print(df2)\n",
    "\n"
   ]
  },
  {
   "cell_type": "code",
   "execution_count": null,
   "id": "4fcdec43",
   "metadata": {},
   "outputs": [],
   "source": []
  },
  {
   "cell_type": "code",
   "execution_count": null,
   "id": "589e869e",
   "metadata": {},
   "outputs": [],
   "source": []
  }
 ],
 "metadata": {
  "kernelspec": {
   "display_name": "Python 3 (ipykernel)",
   "language": "python",
   "name": "python3"
  },
  "language_info": {
   "codemirror_mode": {
    "name": "ipython",
    "version": 3
   },
   "file_extension": ".py",
   "mimetype": "text/x-python",
   "name": "python",
   "nbconvert_exporter": "python",
   "pygments_lexer": "ipython3",
   "version": "3.10.12"
  }
 },
 "nbformat": 4,
 "nbformat_minor": 5
}
